{
 "cells": [
  {
   "cell_type": "code",
   "execution_count": 1,
   "id": "0812025e",
   "metadata": {},
   "outputs": [
    {
     "name": "stdout",
     "output_type": "stream",
     "text": [
      "We will use 1 CPUs in this run\n",
      "1.4.3\n"
     ]
    }
   ],
   "source": [
    "# Packages that allow us to get information about objects:\n",
    "import asdf\n",
    "import copy\n",
    "import os\n",
    "import shutil\n",
    "import glob\n",
    "# Numpy library:\n",
    "import numpy as np\n",
    "# For downloading data\n",
    "import requests\n",
    "# Astropy tools:\n",
    "from astropy.io import fits\n",
    "from astropy.utils.data import download_file\n",
    "from astropy.visualization import ImageNormalize, ManualInterval, LogStretch\n",
    "#Set up matplotlib for plotting\n",
    "import matplotlib.pyplot as plt\n",
    "import matplotlib as mpl\n",
    "# parallelisation\n",
    "#from joblib import Parallel, delayed #besoin d'installer joblib\n",
    "\n",
    "#solution tempo du notebook MRS\n",
    "import multiprocessing\n",
    "multiprocessing.set_start_method('fork')\n",
    "from multiprocessing import Pool\n",
    "# Set the maximum number of processes to spawn based on available cores\n",
    "usage = 'none' # Either 'none' (single thread), 'quarter', 'half', or 'all' available cores\n",
    "maxp = 1\n",
    "print('We will use '+str(maxp)+' CPUs in this run')\n",
    "\n",
    "#Import JWST pipeline-related modules\n",
    "import jwst\n",
    "from jwst.pipeline import Detector1Pipeline\n",
    "from jwst.pipeline import Image2Pipeline\n",
    "from jwst.pipeline import Coron3Pipeline\n",
    "from jwst.associations import asn_from_list as afl # Tools for creating association files\n",
    "from jwst.associations.lib.rules_level2_base import DMSLevel2bBase # Definition of a Lvl2 association file\n",
    "from jwst.associations.lib.rules_level3_base import DMS_Level3_Base # Definition of a Lvl3 association file\n",
    "from jwst.associations.lib.member import Member\n",
    "from jwst.associations.asn_from_list import asn_from_list\n",
    "from tqdm.notebook import tqdm as tqdm\n",
    "#Check which version of the pipeline we are running:\n",
    "print(jwst.__version__)\n",
    "\n"
   ]
  },
  {
   "cell_type": "code",
   "execution_count": 2,
   "id": "e4c1bc1f",
   "metadata": {},
   "outputs": [],
   "source": [
    "path_code   = '/home/cperrot/Work/code/MIRISIM/corono/'\n",
    "path_raw    = '/home/cperrot/Work/code/MIRISIM/corono/20220328_162102_mirisim/det_images/'\n",
    "path_stage1 = '/home/cperrot/Work/code/MIRISIM/corono/corono_S1/'\n",
    "path_stage2 = '/home/cperrot/Work/code/MIRISIM/corono/corono_S2/'\n",
    "path_stage3 = '/home/cperrot/Work/code/MIRISIM/corono/corono_S3/'\n",
    "\n",
    "if not os.path.exists(path_stage1):\n",
    "    os.makedirs(path_stage1)\n",
    "if not os.path.exists(path_stage2):\n",
    "    os.makedirs(path_stage2)\n",
    "if not os.path.exists(path_stage3):\n",
    "    os.makedirs(path_stage3)"
   ]
  },
  {
   "cell_type": "markdown",
   "id": "56a27323",
   "metadata": {},
   "source": [
    "FUNCTION"
   ]
  },
  {
   "cell_type": "code",
   "execution_count": 3,
   "id": "70345f22",
   "metadata": {},
   "outputs": [],
   "source": [
    "def rundet1(filenames):\n",
    "    det1 = Detector1Pipeline() # Instantiate the pipeline\n",
    "    det1.output_dir = path_stage1 # Specify where the output should go\n",
    "    det1.refpix.skip = True # Skip the reference pixel subtraction (as it doesn't interact well with simulated data)\n",
    "    det1.rscd.skip = True\n",
    "    det1.reset.skip = True\n",
    "    det1.save_results = True # Save the final resulting _rate.fits files\n",
    "    det1(filenames) # Run the pipeline on an input list of files"
   ]
  },
  {
   "cell_type": "code",
   "execution_count": 4,
   "id": "9da0b53d",
   "metadata": {},
   "outputs": [],
   "source": [
    "# Define a function that can oversee the multiprocessing\n",
    "# We'll just pass this a function name and a set of inputs, and it'll figure out the\n",
    "# multithreading accordingly.\n",
    "def runmany(step, filenames):\n",
    "    if __name__ == '__main__':\n",
    "        p = Pool(maxp)\n",
    "        res = p.map(step, filenames)\n",
    "        p.close()\n",
    "        p.join()"
   ]
  },
  {
   "cell_type": "code",
   "execution_count": 5,
   "id": "d24d6b78",
   "metadata": {},
   "outputs": [],
   "source": [
    "def writel2asn(files, asn_name, prodname,**kwargs):\n",
    "    \n",
    "    asn = asn_from_list(files, rule=DMSLevel2bBase, product_name=prodname)\n",
    "    asn.data['products'] = None\n",
    "    asn['asn_pool'] = asn_name + '_pool'\n",
    "    asn['asn_type'] = 'image2'\n",
    "    for n, sci in enumerate(files):\n",
    "            asn.new_product('{}_exposure{}'.format(asn_name, str(n+1)))\n",
    "            sci_member = Member({'expname': sci, 'exptype': 'science'})    \n",
    "            new_members = asn.current_product['members']\n",
    "            new_members.append(sci_member)\n",
    "    # print the association and save to file\n",
    "    name, ser = asn.dump()\n",
    "    print(ser)\n",
    "    asn_file2 = path_stage2+asn_name+'.json'\n",
    "    with open(asn_file2, 'w') as f:\n",
    "        f.write(ser)"
   ]
  },
  {
   "cell_type": "code",
   "execution_count": 6,
   "id": "7c049981",
   "metadata": {},
   "outputs": [],
   "source": [
    "sstring = path_raw+'det*.fits'\n",
    "raw_files = sorted(glob.glob(sstring))"
   ]
  },
  {
   "cell_type": "code",
   "execution_count": 9,
   "id": "fe6f7fd5",
   "metadata": {},
   "outputs": [
    {
     "name": "stdout",
     "output_type": "stream",
     "text": [
      "Run stage 1 of the pipeline\n",
      "Found 2 input files to process\n"
     ]
    }
   ],
   "source": [
    "# RUN STAGE 1\n",
    "print(\"Run stage 1 of the pipeline\")\n",
    "print(f'Found {len(raw_files)} input files to process')"
   ]
  },
  {
   "cell_type": "code",
   "execution_count": 8,
   "id": "551b4afd",
   "metadata": {},
   "outputs": [
    {
     "name": "stderr",
     "output_type": "stream",
     "text": [
      "2022-04-25 17:49:41,568 - stpipe.Detector1Pipeline - INFO - Detector1Pipeline instance created.\n",
      "2022-04-25 17:49:41,571 - stpipe.Detector1Pipeline.group_scale - INFO - GroupScaleStep instance created.\n",
      "2022-04-25 17:49:41,573 - stpipe.Detector1Pipeline.dq_init - INFO - DQInitStep instance created.\n",
      "2022-04-25 17:49:41,575 - stpipe.Detector1Pipeline.saturation - INFO - SaturationStep instance created.\n",
      "2022-04-25 17:49:41,578 - stpipe.Detector1Pipeline.ipc - INFO - IPCStep instance created.\n",
      "2022-04-25 17:49:41,581 - stpipe.Detector1Pipeline.superbias - INFO - SuperBiasStep instance created.\n",
      "2022-04-25 17:49:41,583 - stpipe.Detector1Pipeline.refpix - INFO - RefPixStep instance created.\n",
      "2022-04-25 17:49:41,585 - stpipe.Detector1Pipeline.rscd - INFO - RscdStep instance created.\n",
      "2022-04-25 17:49:41,587 - stpipe.Detector1Pipeline.firstframe - INFO - FirstFrameStep instance created.\n",
      "2022-04-25 17:49:41,588 - stpipe.Detector1Pipeline.lastframe - INFO - LastFrameStep instance created.\n",
      "2022-04-25 17:49:41,590 - stpipe.Detector1Pipeline.linearity - INFO - LinearityStep instance created.\n",
      "2022-04-25 17:49:41,592 - stpipe.Detector1Pipeline.dark_current - INFO - DarkCurrentStep instance created.\n",
      "2022-04-25 17:49:41,593 - stpipe.Detector1Pipeline.reset - INFO - ResetStep instance created.\n",
      "2022-04-25 17:49:41,595 - stpipe.Detector1Pipeline.persistence - INFO - PersistenceStep instance created.\n",
      "2022-04-25 17:49:41,597 - stpipe.Detector1Pipeline.jump - INFO - JumpStep instance created.\n",
      "2022-04-25 17:49:41,599 - stpipe.Detector1Pipeline.ramp_fit - INFO - RampFitStep instance created.\n",
      "2022-04-25 17:49:41,600 - stpipe.Detector1Pipeline.gain_scale - INFO - GainScaleStep instance created.\n",
      "2022-04-25 17:49:41,703 - stpipe.Detector1Pipeline - INFO - Step Detector1Pipeline running with args ('/home/cperrot/Work/code/MIRISIM/corono/20220328_162102_mirisim/det_images/det_image_seq1_MIRIMAGE_F1000Wexp1.fits',).\n",
      "2022-04-25 17:49:41,715 - stpipe.Detector1Pipeline - INFO - Step Detector1Pipeline parameters are: {'pre_hooks': [], 'post_hooks': [], 'output_file': None, 'output_dir': '/home/cperrot/Work/code/MIRISIM/corono/corono_S1/', 'output_ext': '.fits', 'output_use_model': False, 'output_use_index': True, 'save_results': True, 'skip': False, 'suffix': None, 'search_output_file': True, 'input_dir': '', 'save_calibrated_ramp': False, 'steps': {'group_scale': {'pre_hooks': [], 'post_hooks': [], 'output_file': None, 'output_dir': None, 'output_ext': '.fits', 'output_use_model': False, 'output_use_index': True, 'save_results': False, 'skip': False, 'suffix': None, 'search_output_file': True, 'input_dir': ''}, 'dq_init': {'pre_hooks': [], 'post_hooks': [], 'output_file': None, 'output_dir': None, 'output_ext': '.fits', 'output_use_model': False, 'output_use_index': True, 'save_results': False, 'skip': False, 'suffix': None, 'search_output_file': True, 'input_dir': ''}, 'saturation': {'pre_hooks': [], 'post_hooks': [], 'output_file': None, 'output_dir': None, 'output_ext': '.fits', 'output_use_model': False, 'output_use_index': True, 'save_results': False, 'skip': False, 'suffix': None, 'search_output_file': True, 'input_dir': ''}, 'ipc': {'pre_hooks': [], 'post_hooks': [], 'output_file': None, 'output_dir': None, 'output_ext': '.fits', 'output_use_model': False, 'output_use_index': True, 'save_results': False, 'skip': False, 'suffix': None, 'search_output_file': True, 'input_dir': ''}, 'superbias': {'pre_hooks': [], 'post_hooks': [], 'output_file': None, 'output_dir': None, 'output_ext': '.fits', 'output_use_model': False, 'output_use_index': True, 'save_results': False, 'skip': False, 'suffix': None, 'search_output_file': True, 'input_dir': ''}, 'refpix': {'pre_hooks': [], 'post_hooks': [], 'output_file': None, 'output_dir': None, 'output_ext': '.fits', 'output_use_model': False, 'output_use_index': True, 'save_results': False, 'skip': True, 'suffix': None, 'search_output_file': True, 'input_dir': '', 'odd_even_columns': True, 'use_side_ref_pixels': True, 'side_smoothing_length': 11, 'side_gain': 1.0, 'odd_even_rows': True}, 'rscd': {'pre_hooks': [], 'post_hooks': [], 'output_file': None, 'output_dir': None, 'output_ext': '.fits', 'output_use_model': False, 'output_use_index': True, 'save_results': False, 'skip': True, 'suffix': None, 'search_output_file': True, 'input_dir': '', 'type': 'baseline'}, 'firstframe': {'pre_hooks': [], 'post_hooks': [], 'output_file': None, 'output_dir': None, 'output_ext': '.fits', 'output_use_model': False, 'output_use_index': True, 'save_results': False, 'skip': False, 'suffix': None, 'search_output_file': True, 'input_dir': ''}, 'lastframe': {'pre_hooks': [], 'post_hooks': [], 'output_file': None, 'output_dir': None, 'output_ext': '.fits', 'output_use_model': False, 'output_use_index': True, 'save_results': False, 'skip': False, 'suffix': None, 'search_output_file': True, 'input_dir': ''}, 'linearity': {'pre_hooks': [], 'post_hooks': [], 'output_file': None, 'output_dir': None, 'output_ext': '.fits', 'output_use_model': False, 'output_use_index': True, 'save_results': False, 'skip': False, 'suffix': None, 'search_output_file': True, 'input_dir': ''}, 'dark_current': {'pre_hooks': [], 'post_hooks': [], 'output_file': None, 'output_dir': None, 'output_ext': '.fits', 'output_use_model': False, 'output_use_index': True, 'save_results': False, 'skip': False, 'suffix': None, 'search_output_file': True, 'input_dir': '', 'dark_output': None}, 'reset': {'pre_hooks': [], 'post_hooks': [], 'output_file': None, 'output_dir': None, 'output_ext': '.fits', 'output_use_model': False, 'output_use_index': True, 'save_results': False, 'skip': True, 'suffix': None, 'search_output_file': True, 'input_dir': ''}, 'persistence': {'pre_hooks': [], 'post_hooks': [], 'output_file': None, 'output_dir': None, 'output_ext': '.fits', 'output_use_model': False, 'output_use_index': True, 'save_results': False, 'skip': False, 'suffix': None, 'search_output_file': True, 'input_dir': '', 'input_trapsfilled': '', 'flag_pers_cutoff': 40.0, 'save_persistence': False, 'save_trapsfilled': True}, 'jump': {'pre_hooks': [], 'post_hooks': [], 'output_file': None, 'output_dir': None, 'output_ext': '.fits', 'output_use_model': False, 'output_use_index': True, 'save_results': False, 'skip': False, 'suffix': None, 'search_output_file': True, 'input_dir': '', 'rejection_threshold': 4.0, 'three_group_rejection_threshold': 6.0, 'four_group_rejection_threshold': 5.0, 'maximum_cores': 'none', 'flag_4_neighbors': True, 'max_jump_to_flag_neighbors': 1000.0, 'min_jump_to_flag_neighbors': 10.0}, 'ramp_fit': {'pre_hooks': [], 'post_hooks': [], 'output_file': None, 'output_dir': None, 'output_ext': '.fits', 'output_use_model': False, 'output_use_index': True, 'save_results': False, 'skip': False, 'suffix': None, 'search_output_file': True, 'input_dir': '', 'int_name': '', 'save_opt': False, 'opt_name': '', 'maximum_cores': 'none'}, 'gain_scale': {'pre_hooks': [], 'post_hooks': [], 'output_file': None, 'output_dir': None, 'output_ext': '.fits', 'output_use_model': False, 'output_use_index': True, 'save_results': False, 'skip': False, 'suffix': None, 'search_output_file': True, 'input_dir': ''}}}\n",
      "2022-04-25 17:49:42,860 - stpipe.Detector1Pipeline - INFO - Prefetching reference files for dataset: 'det_image_seq1_MIRIMAGE_F1000Wexp1.fits' reftypes = ['dark', 'gain', 'ipc', 'linearity', 'mask', 'persat', 'readnoise', 'saturation', 'superbias', 'trapdensity', 'trappars']\n",
      "2022-04-25 17:49:43,946 - stpipe.Detector1Pipeline - INFO - Prefetch for DARK reference file is '/home/cperrot/crds_cache/references/jwst/miri/jwst_miri_dark_0058.fits'.\n",
      "2022-04-25 17:49:43,947 - stpipe.Detector1Pipeline - INFO - Prefetch for GAIN reference file is '/home/cperrot/crds_cache/references/jwst/miri/jwst_miri_gain_0008.fits'.\n",
      "2022-04-25 17:49:43,948 - stpipe.Detector1Pipeline - INFO - Prefetch for IPC reference file is '/home/cperrot/crds_cache/references/jwst/miri/jwst_miri_ipc_0009.fits'.\n",
      "2022-04-25 17:49:43,949 - stpipe.Detector1Pipeline - INFO - Prefetch for LINEARITY reference file is '/home/cperrot/crds_cache/references/jwst/miri/jwst_miri_linearity_0024.fits'.\n",
      "2022-04-25 17:49:43,950 - stpipe.Detector1Pipeline - INFO - Prefetch for MASK reference file is '/home/cperrot/crds_cache/references/jwst/miri/jwst_miri_mask_0028.fits'.\n"
     ]
    },
    {
     "name": "stderr",
     "output_type": "stream",
     "text": [
      "2022-04-25 17:49:43,951 - stpipe.Detector1Pipeline - INFO - Prefetch for PERSAT reference file is 'N/A'.\n",
      "2022-04-25 17:49:43,952 - stpipe.Detector1Pipeline - INFO - Prefetch for READNOISE reference file is '/home/cperrot/crds_cache/references/jwst/miri/jwst_miri_readnoise_0057.fits'.\n",
      "2022-04-25 17:49:43,953 - stpipe.Detector1Pipeline - INFO - Prefetch for SATURATION reference file is '/home/cperrot/crds_cache/references/jwst/miri/jwst_miri_saturation_0026.fits'.\n",
      "2022-04-25 17:49:43,954 - stpipe.Detector1Pipeline - INFO - Prefetch for SUPERBIAS reference file is 'N/A'.\n",
      "2022-04-25 17:49:43,954 - stpipe.Detector1Pipeline - INFO - Prefetch for TRAPDENSITY reference file is 'N/A'.\n",
      "2022-04-25 17:49:43,955 - stpipe.Detector1Pipeline - INFO - Prefetch for TRAPPARS reference file is 'N/A'.\n",
      "2022-04-25 17:49:43,956 - stpipe.Detector1Pipeline - INFO - Starting calwebb_detector1 ...\n",
      "2022-04-25 17:49:44,139 - stpipe.Detector1Pipeline.group_scale - INFO - Step group_scale running with args (<RampModel(3, 5, 1024, 1032) from det_image_seq1_MIRIMAGE_F1000Wexp1.fits>,).\n",
      "2022-04-25 17:49:44,141 - stpipe.Detector1Pipeline.group_scale - INFO - Step group_scale parameters are: {'pre_hooks': [], 'post_hooks': [], 'output_file': None, 'output_dir': None, 'output_ext': '.fits', 'output_use_model': False, 'output_use_index': True, 'save_results': False, 'skip': False, 'suffix': None, 'search_output_file': True, 'input_dir': '/home/cperrot/Work/code/MIRISIM/corono/20220328_162102_mirisim/det_images'}\n",
      "2022-04-25 17:49:44,220 - stpipe.Detector1Pipeline.group_scale - INFO - NFRAMES=1 is a power of 2; correction not needed\n",
      "2022-04-25 17:49:44,221 - stpipe.Detector1Pipeline.group_scale - INFO - Step will be skipped\n",
      "2022-04-25 17:49:44,225 - stpipe.Detector1Pipeline.group_scale - INFO - Step group_scale done\n",
      "2022-04-25 17:49:44,305 - stpipe.Detector1Pipeline.dq_init - INFO - Step dq_init running with args (<RampModel(3, 5, 1024, 1032) from det_image_seq1_MIRIMAGE_F1000Wexp1.fits>,).\n",
      "2022-04-25 17:49:44,308 - stpipe.Detector1Pipeline.dq_init - INFO - Step dq_init parameters are: {'pre_hooks': [], 'post_hooks': [], 'output_file': None, 'output_dir': None, 'output_ext': '.fits', 'output_use_model': False, 'output_use_index': True, 'save_results': False, 'skip': False, 'suffix': None, 'search_output_file': True, 'input_dir': '/home/cperrot/Work/code/MIRISIM/corono/20220328_162102_mirisim/det_images'}\n",
      "2022-04-25 17:49:44,332 - stpipe.Detector1Pipeline.dq_init - INFO - Using MASK reference file /home/cperrot/crds_cache/references/jwst/miri/jwst_miri_mask_0028.fits\n",
      "2022-04-25 17:49:44,533 - stpipe.Detector1Pipeline.dq_init - INFO - Step dq_init done\n",
      "2022-04-25 17:49:44,615 - stpipe.Detector1Pipeline.saturation - INFO - Step saturation running with args (<RampModel(3, 5, 1024, 1032) from det_image_seq1_MIRIMAGE_F1000Wexp1.fits>,).\n",
      "2022-04-25 17:49:44,617 - stpipe.Detector1Pipeline.saturation - INFO - Step saturation parameters are: {'pre_hooks': [], 'post_hooks': [], 'output_file': None, 'output_dir': None, 'output_ext': '.fits', 'output_use_model': False, 'output_use_index': True, 'save_results': False, 'skip': False, 'suffix': None, 'search_output_file': True, 'input_dir': '/home/cperrot/Work/code/MIRISIM/corono/20220328_162102_mirisim/det_images'}\n",
      "2022-04-25 17:49:44,641 - stpipe.Detector1Pipeline.saturation - INFO - Using SATURATION reference file /home/cperrot/crds_cache/references/jwst/miri/jwst_miri_saturation_0026.fits\n",
      "2022-04-25 17:49:44,852 - stpipe.Detector1Pipeline.saturation - INFO - Detected 397 saturated pixels\n",
      "2022-04-25 17:49:44,860 - stpipe.Detector1Pipeline.saturation - INFO - Detected 0 A/D floor pixels\n",
      "2022-04-25 17:49:44,873 - stpipe.Detector1Pipeline.saturation - INFO - Step saturation done\n",
      "2022-04-25 17:49:44,958 - stpipe.Detector1Pipeline.ipc - INFO - Step ipc running with args (<RampModel(3, 5, 1024, 1032) from det_image_seq1_MIRIMAGE_F1000Wexp1.fits>,).\n",
      "2022-04-25 17:49:44,960 - stpipe.Detector1Pipeline.ipc - INFO - Step ipc parameters are: {'pre_hooks': [], 'post_hooks': [], 'output_file': None, 'output_dir': None, 'output_ext': '.fits', 'output_use_model': False, 'output_use_index': True, 'save_results': False, 'skip': False, 'suffix': None, 'search_output_file': True, 'input_dir': '/home/cperrot/Work/code/MIRISIM/corono/20220328_162102_mirisim/det_images'}\n",
      "2022-04-25 17:49:44,986 - stpipe.Detector1Pipeline.ipc - INFO - Using IPC reference file /home/cperrot/crds_cache/references/jwst/miri/jwst_miri_ipc_0009.fits\n",
      "2022-04-25 17:49:45,449 - stpipe.Detector1Pipeline.ipc - INFO - Step ipc done\n",
      "2022-04-25 17:49:45,538 - stpipe.Detector1Pipeline.firstframe - INFO - Step firstframe running with args (<RampModel(3, 5, 1024, 1032) from det_image_seq1_MIRIMAGE_F1000Wexp1.fits>,).\n",
      "2022-04-25 17:49:45,540 - stpipe.Detector1Pipeline.firstframe - INFO - Step firstframe parameters are: {'pre_hooks': [], 'post_hooks': [], 'output_file': None, 'output_dir': None, 'output_ext': '.fits', 'output_use_model': False, 'output_use_index': True, 'save_results': False, 'skip': False, 'suffix': None, 'search_output_file': True, 'input_dir': '/home/cperrot/Work/code/MIRISIM/corono/20220328_162102_mirisim/det_images'}\n",
      "2022-04-25 17:49:45,626 - stpipe.Detector1Pipeline.firstframe - INFO - Step firstframe done\n",
      "2022-04-25 17:49:45,704 - stpipe.Detector1Pipeline.lastframe - INFO - Step lastframe running with args (<RampModel(3, 5, 1024, 1032) from det_image_seq1_MIRIMAGE_F1000Wexp1.fits>,).\n",
      "2022-04-25 17:49:45,706 - stpipe.Detector1Pipeline.lastframe - INFO - Step lastframe parameters are: {'pre_hooks': [], 'post_hooks': [], 'output_file': None, 'output_dir': None, 'output_ext': '.fits', 'output_use_model': False, 'output_use_index': True, 'save_results': False, 'skip': False, 'suffix': None, 'search_output_file': True, 'input_dir': '/home/cperrot/Work/code/MIRISIM/corono/20220328_162102_mirisim/det_images'}\n",
      "2022-04-25 17:49:45,797 - stpipe.Detector1Pipeline.lastframe - INFO - Step lastframe done\n",
      "2022-04-25 17:49:45,867 - stpipe.Detector1Pipeline.reset - INFO - Step reset running with args (<RampModel(3, 5, 1024, 1032) from det_image_seq1_MIRIMAGE_F1000Wexp1.fits>,).\n",
      "2022-04-25 17:49:45,869 - stpipe.Detector1Pipeline.reset - INFO - Step reset parameters are: {'pre_hooks': [], 'post_hooks': [], 'output_file': None, 'output_dir': None, 'output_ext': '.fits', 'output_use_model': False, 'output_use_index': True, 'save_results': False, 'skip': True, 'suffix': None, 'search_output_file': True, 'input_dir': '/home/cperrot/Work/code/MIRISIM/corono/20220328_162102_mirisim/det_images'}\n",
      "2022-04-25 17:49:45,870 - stpipe.Detector1Pipeline.reset - INFO - Step skipped.\n",
      "2022-04-25 17:49:45,873 - stpipe.Detector1Pipeline.reset - INFO - Step reset done\n",
      "2022-04-25 17:49:45,947 - stpipe.Detector1Pipeline.linearity - INFO - Step linearity running with args (<RampModel(3, 5, 1024, 1032) from det_image_seq1_MIRIMAGE_F1000Wexp1.fits>,).\n",
      "2022-04-25 17:49:45,949 - stpipe.Detector1Pipeline.linearity - INFO - Step linearity parameters are: {'pre_hooks': [], 'post_hooks': [], 'output_file': None, 'output_dir': None, 'output_ext': '.fits', 'output_use_model': False, 'output_use_index': True, 'save_results': False, 'skip': False, 'suffix': None, 'search_output_file': True, 'input_dir': '/home/cperrot/Work/code/MIRISIM/corono/20220328_162102_mirisim/det_images'}\n",
      "2022-04-25 17:49:45,975 - stpipe.Detector1Pipeline.linearity - INFO - Using Linearity reference file /home/cperrot/crds_cache/references/jwst/miri/jwst_miri_linearity_0024.fits\n",
      "2022-04-25 17:49:46,354 - stpipe.Detector1Pipeline.linearity - INFO - Step linearity done\n",
      "2022-04-25 17:49:46,435 - stpipe.Detector1Pipeline.rscd - INFO - Step rscd running with args (<RampModel(3, 5, 1024, 1032) from det_image_seq1_MIRIMAGE_F1000Wexp1.fits>,).\n",
      "2022-04-25 17:49:46,437 - stpipe.Detector1Pipeline.rscd - INFO - Step rscd parameters are: {'pre_hooks': [], 'post_hooks': [], 'output_file': None, 'output_dir': None, 'output_ext': '.fits', 'output_use_model': False, 'output_use_index': True, 'save_results': False, 'skip': True, 'suffix': None, 'search_output_file': True, 'input_dir': '/home/cperrot/Work/code/MIRISIM/corono/20220328_162102_mirisim/det_images', 'type': 'baseline'}\n"
     ]
    },
    {
     "name": "stderr",
     "output_type": "stream",
     "text": [
      "2022-04-25 17:49:46,438 - stpipe.Detector1Pipeline.rscd - INFO - Step skipped.\n",
      "2022-04-25 17:49:46,441 - stpipe.Detector1Pipeline.rscd - INFO - Step rscd done\n",
      "2022-04-25 17:49:46,519 - stpipe.Detector1Pipeline.dark_current - INFO - Step dark_current running with args (<RampModel(3, 5, 1024, 1032) from det_image_seq1_MIRIMAGE_F1000Wexp1.fits>,).\n",
      "2022-04-25 17:49:46,522 - stpipe.Detector1Pipeline.dark_current - INFO - Step dark_current parameters are: {'pre_hooks': [], 'post_hooks': [], 'output_file': None, 'output_dir': '/home/cperrot/Work/code/MIRISIM/corono/corono_S1/', 'output_ext': '.fits', 'output_use_model': False, 'output_use_index': True, 'save_results': False, 'skip': False, 'suffix': None, 'search_output_file': True, 'input_dir': '/home/cperrot/Work/code/MIRISIM/corono/20220328_162102_mirisim/det_images', 'dark_output': None}\n",
      "2022-04-25 17:49:46,550 - stpipe.Detector1Pipeline.dark_current - INFO - Using DARK reference file /home/cperrot/crds_cache/references/jwst/miri/jwst_miri_dark_0058.fits\n",
      "2022-04-25 17:49:47,369 - stpipe.Detector1Pipeline.dark_current - INFO - Science data nints=3, ngroups=5, nframes=1, groupgap=0\n",
      "2022-04-25 17:49:47,370 - stpipe.Detector1Pipeline.dark_current - INFO - Dark data nints=2, ngroups=200, nframes=1, groupgap=0\n",
      "2022-04-25 17:49:47,992 - stpipe.Detector1Pipeline.dark_current - INFO - Step dark_current done\n",
      "2022-04-25 17:49:48,078 - stpipe.Detector1Pipeline.refpix - INFO - Step refpix running with args (<RampModel(3, 5, 1024, 1032) from det_image_seq1_MIRIMAGE_F1000Wexp1.fits>,).\n",
      "2022-04-25 17:49:48,080 - stpipe.Detector1Pipeline.refpix - INFO - Step refpix parameters are: {'pre_hooks': [], 'post_hooks': [], 'output_file': None, 'output_dir': None, 'output_ext': '.fits', 'output_use_model': False, 'output_use_index': True, 'save_results': False, 'skip': True, 'suffix': None, 'search_output_file': True, 'input_dir': '/home/cperrot/Work/code/MIRISIM/corono/20220328_162102_mirisim/det_images', 'odd_even_columns': True, 'use_side_ref_pixels': True, 'side_smoothing_length': 11, 'side_gain': 1.0, 'odd_even_rows': True}\n",
      "2022-04-25 17:49:48,081 - stpipe.Detector1Pipeline.refpix - INFO - Step skipped.\n",
      "2022-04-25 17:49:48,085 - stpipe.Detector1Pipeline.refpix - INFO - Step refpix done\n",
      "2022-04-25 17:49:48,163 - stpipe.Detector1Pipeline.jump - INFO - Step jump running with args (<RampModel(3, 5, 1024, 1032) from det_image_seq1_MIRIMAGE_F1000Wexp1.fits>,).\n",
      "2022-04-25 17:49:48,166 - stpipe.Detector1Pipeline.jump - INFO - Step jump parameters are: {'pre_hooks': [], 'post_hooks': [], 'output_file': None, 'output_dir': None, 'output_ext': '.fits', 'output_use_model': False, 'output_use_index': True, 'save_results': False, 'skip': False, 'suffix': None, 'search_output_file': True, 'input_dir': '/home/cperrot/Work/code/MIRISIM/corono/20220328_162102_mirisim/det_images', 'rejection_threshold': 4.0, 'three_group_rejection_threshold': 6.0, 'four_group_rejection_threshold': 5.0, 'maximum_cores': 'none', 'flag_4_neighbors': True, 'max_jump_to_flag_neighbors': 1000.0, 'min_jump_to_flag_neighbors': 10.0}\n",
      "2022-04-25 17:49:48,181 - stpipe.Detector1Pipeline.jump - INFO - CR rejection threshold = 4 sigma\n",
      "2022-04-25 17:49:48,196 - stpipe.Detector1Pipeline.jump - INFO - Using GAIN reference file: /home/cperrot/crds_cache/references/jwst/miri/jwst_miri_gain_0008.fits\n",
      "2022-04-25 17:49:48,243 - stpipe.Detector1Pipeline.jump - INFO - Using READNOISE reference file: /home/cperrot/crds_cache/references/jwst/miri/jwst_miri_readnoise_0057.fits\n",
      "2022-04-25 17:49:48,423 - stpipe.Detector1Pipeline.jump - INFO - Executing two-point difference method\n",
      "2022-04-25 17:49:48,443 - stpipe.Detector1Pipeline.jump - INFO - Working on integration 1:\n",
      "2022-04-25 17:49:48,876 - stpipe.Detector1Pipeline.jump - WARNING - /home/cperrot/anaconda3/envs/mirisim/lib/python3.9/site-packages/stcal/jump/twopoint_difference.py:116: RuntimeWarning: All-NaN slice encountered\n",
      "  max_ratio = np.nanmax(ratio, axis=0)\n",
      "\n",
      "2022-04-25 17:49:48,907 - stpipe.Detector1Pipeline.jump - INFO - From highest outlier, two-point found 0 pixels with at least one CR from five groups.\n",
      "2022-04-25 17:49:48,909 - stpipe.Detector1Pipeline.jump - INFO - From highest outlier, two-point found 0 pixels with at least one CR from four groups.\n",
      "2022-04-25 17:49:48,909 - stpipe.Detector1Pipeline.jump - INFO - From highest outlier, two-point found 881 pixels with at least one CR from three groups.\n",
      "2022-04-25 17:49:48,981 - stpipe.Detector1Pipeline.jump - INFO - Working on integration 2:\n",
      "2022-04-25 17:49:49,391 - stpipe.Detector1Pipeline.jump - INFO - From highest outlier, two-point found 0 pixels with at least one CR from five groups.\n",
      "2022-04-25 17:49:49,392 - stpipe.Detector1Pipeline.jump - INFO - From highest outlier, two-point found 0 pixels with at least one CR from four groups.\n",
      "2022-04-25 17:49:49,394 - stpipe.Detector1Pipeline.jump - INFO - From highest outlier, two-point found 883 pixels with at least one CR from three groups.\n",
      "2022-04-25 17:49:49,457 - stpipe.Detector1Pipeline.jump - INFO - Working on integration 3:\n",
      "2022-04-25 17:49:49,898 - stpipe.Detector1Pipeline.jump - INFO - From highest outlier, two-point found 0 pixels with at least one CR from five groups.\n",
      "2022-04-25 17:49:49,899 - stpipe.Detector1Pipeline.jump - INFO - From highest outlier, two-point found 0 pixels with at least one CR from four groups.\n",
      "2022-04-25 17:49:49,900 - stpipe.Detector1Pipeline.jump - INFO - From highest outlier, two-point found 839 pixels with at least one CR from three groups.\n",
      "2022-04-25 17:49:49,961 - stpipe.Detector1Pipeline.jump - INFO - Total elapsed time = 1.5365 sec\n",
      "2022-04-25 17:49:49,966 - stpipe.Detector1Pipeline.jump - INFO - The execution time in seconds: 1.784746\n",
      "2022-04-25 17:49:49,975 - stpipe.Detector1Pipeline.jump - INFO - Step jump done\n",
      "2022-04-25 17:49:50,062 - stpipe.Detector1Pipeline.ramp_fit - INFO - Step ramp_fit running with args (<RampModel(3, 5, 1024, 1032) from det_image_seq1_MIRIMAGE_F1000Wexp1.fits>,).\n",
      "2022-04-25 17:49:50,064 - stpipe.Detector1Pipeline.ramp_fit - INFO - Step ramp_fit parameters are: {'pre_hooks': [], 'post_hooks': [], 'output_file': None, 'output_dir': '/home/cperrot/Work/code/MIRISIM/corono/corono_S1/', 'output_ext': '.fits', 'output_use_model': False, 'output_use_index': True, 'save_results': False, 'skip': False, 'suffix': None, 'search_output_file': True, 'input_dir': '/home/cperrot/Work/code/MIRISIM/corono/20220328_162102_mirisim/det_images', 'int_name': '', 'save_opt': False, 'opt_name': '', 'maximum_cores': 'none'}\n",
      "2022-04-25 17:49:50,106 - stpipe.Detector1Pipeline.ramp_fit - INFO - Using READNOISE reference file: /home/cperrot/crds_cache/references/jwst/miri/jwst_miri_readnoise_0057.fits\n",
      "2022-04-25 17:49:50,107 - stpipe.Detector1Pipeline.ramp_fit - INFO - Using GAIN reference file: /home/cperrot/crds_cache/references/jwst/miri/jwst_miri_gain_0008.fits\n",
      "2022-04-25 17:49:50,159 - stpipe.Detector1Pipeline.ramp_fit - INFO - Using algorithm = ols\n",
      "2022-04-25 17:49:50,160 - stpipe.Detector1Pipeline.ramp_fit - INFO - Using weighting = optimal\n",
      "2022-04-25 17:49:50,177 - stpipe.Detector1Pipeline.ramp_fit - INFO - Number of leading groups that are flagged as DO_NOT_USE: 1\n",
      "2022-04-25 17:49:50,179 - stpipe.Detector1Pipeline.ramp_fit - INFO - MIRI dataset has all pixels in the final group flagged as DO_NOT_USE.\n",
      "2022-04-25 17:49:53,936 - stpipe.Detector1Pipeline.ramp_fit - INFO - Number of groups per integration: 3\n",
      "2022-04-25 17:49:53,937 - stpipe.Detector1Pipeline.ramp_fit - INFO - Number of integrations: 3\n",
      "2022-04-25 17:49:54,026 - stpipe.Detector1Pipeline.ramp_fit - INFO - Step ramp_fit done\n",
      "2022-04-25 17:49:54,095 - stpipe.Detector1Pipeline.gain_scale - INFO - Step gain_scale running with args (<ImageModel(1024, 1032) from det_image_seq1_MIRIMAGE_F1000Wexp1.fits>,).\n",
      "2022-04-25 17:49:54,097 - stpipe.Detector1Pipeline.gain_scale - INFO - Step gain_scale parameters are: {'pre_hooks': [], 'post_hooks': [], 'output_file': None, 'output_dir': None, 'output_ext': '.fits', 'output_use_model': False, 'output_use_index': True, 'save_results': False, 'skip': False, 'suffix': 'gain_scale', 'search_output_file': True, 'input_dir': '/home/cperrot/Work/code/MIRISIM/corono/20220328_162102_mirisim/det_images'}\n"
     ]
    },
    {
     "name": "stderr",
     "output_type": "stream",
     "text": [
      "2022-04-25 17:49:54,150 - stpipe.Detector1Pipeline.gain_scale - INFO - GAINFACT not found in gain reference file\n",
      "2022-04-25 17:49:54,151 - stpipe.Detector1Pipeline.gain_scale - INFO - Step will be skipped\n",
      "2022-04-25 17:49:54,157 - stpipe.Detector1Pipeline.gain_scale - INFO - Step gain_scale done\n",
      "2022-04-25 17:49:54,227 - stpipe.Detector1Pipeline.gain_scale - INFO - Step gain_scale running with args (<CubeModel(3, 1024, 1032) from det_image_seq1_MIRIMAGE_F1000Wexp1.fits>,).\n",
      "2022-04-25 17:49:54,229 - stpipe.Detector1Pipeline.gain_scale - INFO - Step gain_scale parameters are: {'pre_hooks': [], 'post_hooks': [], 'output_file': None, 'output_dir': None, 'output_ext': '.fits', 'output_use_model': False, 'output_use_index': True, 'save_results': False, 'skip': False, 'suffix': 'gain_scaleints', 'search_output_file': True, 'input_dir': '/home/cperrot/Work/code/MIRISIM/corono/20220328_162102_mirisim/det_images'}\n",
      "2022-04-25 17:49:54,278 - stpipe.Detector1Pipeline.gain_scale - INFO - GAINFACT not found in gain reference file\n",
      "2022-04-25 17:49:54,279 - stpipe.Detector1Pipeline.gain_scale - INFO - Step will be skipped\n",
      "2022-04-25 17:49:54,285 - stpipe.Detector1Pipeline.gain_scale - INFO - Step gain_scale done\n",
      "2022-04-25 17:49:54,406 - stpipe.Detector1Pipeline - INFO - Saved model in /home/cperrot/Work/code/MIRISIM/corono/corono_S1/det_image_seq1_MIRIMAGE_F1000Wexp1_rateints.fits\n",
      "2022-04-25 17:49:54,408 - stpipe.Detector1Pipeline - INFO - ... ending calwebb_detector1\n",
      "2022-04-25 17:49:54,479 - stpipe.Detector1Pipeline - INFO - Saved model in /home/cperrot/Work/code/MIRISIM/corono/corono_S1/det_image_seq1_MIRIMAGE_F1000Wexp1_rate.fits\n",
      "2022-04-25 17:49:54,480 - stpipe.Detector1Pipeline - INFO - Step Detector1Pipeline done\n",
      "2022-04-25 17:49:54,490 - stpipe.Detector1Pipeline - INFO - Detector1Pipeline instance created.\n",
      "2022-04-25 17:49:54,492 - stpipe.Detector1Pipeline.group_scale - INFO - GroupScaleStep instance created.\n",
      "2022-04-25 17:49:54,493 - stpipe.Detector1Pipeline.dq_init - INFO - DQInitStep instance created.\n",
      "2022-04-25 17:49:54,495 - stpipe.Detector1Pipeline.saturation - INFO - SaturationStep instance created.\n",
      "2022-04-25 17:49:54,497 - stpipe.Detector1Pipeline.ipc - INFO - IPCStep instance created.\n",
      "2022-04-25 17:49:54,498 - stpipe.Detector1Pipeline.superbias - INFO - SuperBiasStep instance created.\n",
      "2022-04-25 17:49:54,500 - stpipe.Detector1Pipeline.refpix - INFO - RefPixStep instance created.\n",
      "2022-04-25 17:49:54,502 - stpipe.Detector1Pipeline.rscd - INFO - RscdStep instance created.\n",
      "2022-04-25 17:49:54,504 - stpipe.Detector1Pipeline.firstframe - INFO - FirstFrameStep instance created.\n",
      "2022-04-25 17:49:54,506 - stpipe.Detector1Pipeline.lastframe - INFO - LastFrameStep instance created.\n",
      "2022-04-25 17:49:54,508 - stpipe.Detector1Pipeline.linearity - INFO - LinearityStep instance created.\n",
      "2022-04-25 17:49:54,510 - stpipe.Detector1Pipeline.dark_current - INFO - DarkCurrentStep instance created.\n",
      "2022-04-25 17:49:54,511 - stpipe.Detector1Pipeline.reset - INFO - ResetStep instance created.\n",
      "2022-04-25 17:49:54,513 - stpipe.Detector1Pipeline.persistence - INFO - PersistenceStep instance created.\n",
      "2022-04-25 17:49:54,515 - stpipe.Detector1Pipeline.jump - INFO - JumpStep instance created.\n",
      "2022-04-25 17:49:54,516 - stpipe.Detector1Pipeline.ramp_fit - INFO - RampFitStep instance created.\n",
      "2022-04-25 17:49:54,518 - stpipe.Detector1Pipeline.gain_scale - INFO - GainScaleStep instance created.\n",
      "2022-04-25 17:49:54,602 - stpipe.Detector1Pipeline - INFO - Step Detector1Pipeline running with args ('/home/cperrot/Work/code/MIRISIM/corono/20220328_162102_mirisim/det_images/det_image_seq1_MIRIMAGE_F1000Wexp2.fits',).\n",
      "2022-04-25 17:49:54,613 - stpipe.Detector1Pipeline - INFO - Step Detector1Pipeline parameters are: {'pre_hooks': [], 'post_hooks': [], 'output_file': None, 'output_dir': '/home/cperrot/Work/code/MIRISIM/corono/corono_S1/', 'output_ext': '.fits', 'output_use_model': False, 'output_use_index': True, 'save_results': True, 'skip': False, 'suffix': None, 'search_output_file': True, 'input_dir': '', 'save_calibrated_ramp': False, 'steps': {'group_scale': {'pre_hooks': [], 'post_hooks': [], 'output_file': None, 'output_dir': None, 'output_ext': '.fits', 'output_use_model': False, 'output_use_index': True, 'save_results': False, 'skip': False, 'suffix': None, 'search_output_file': True, 'input_dir': ''}, 'dq_init': {'pre_hooks': [], 'post_hooks': [], 'output_file': None, 'output_dir': None, 'output_ext': '.fits', 'output_use_model': False, 'output_use_index': True, 'save_results': False, 'skip': False, 'suffix': None, 'search_output_file': True, 'input_dir': ''}, 'saturation': {'pre_hooks': [], 'post_hooks': [], 'output_file': None, 'output_dir': None, 'output_ext': '.fits', 'output_use_model': False, 'output_use_index': True, 'save_results': False, 'skip': False, 'suffix': None, 'search_output_file': True, 'input_dir': ''}, 'ipc': {'pre_hooks': [], 'post_hooks': [], 'output_file': None, 'output_dir': None, 'output_ext': '.fits', 'output_use_model': False, 'output_use_index': True, 'save_results': False, 'skip': False, 'suffix': None, 'search_output_file': True, 'input_dir': ''}, 'superbias': {'pre_hooks': [], 'post_hooks': [], 'output_file': None, 'output_dir': None, 'output_ext': '.fits', 'output_use_model': False, 'output_use_index': True, 'save_results': False, 'skip': False, 'suffix': None, 'search_output_file': True, 'input_dir': ''}, 'refpix': {'pre_hooks': [], 'post_hooks': [], 'output_file': None, 'output_dir': None, 'output_ext': '.fits', 'output_use_model': False, 'output_use_index': True, 'save_results': False, 'skip': True, 'suffix': None, 'search_output_file': True, 'input_dir': '', 'odd_even_columns': True, 'use_side_ref_pixels': True, 'side_smoothing_length': 11, 'side_gain': 1.0, 'odd_even_rows': True}, 'rscd': {'pre_hooks': [], 'post_hooks': [], 'output_file': None, 'output_dir': None, 'output_ext': '.fits', 'output_use_model': False, 'output_use_index': True, 'save_results': False, 'skip': True, 'suffix': None, 'search_output_file': True, 'input_dir': '', 'type': 'baseline'}, 'firstframe': {'pre_hooks': [], 'post_hooks': [], 'output_file': None, 'output_dir': None, 'output_ext': '.fits', 'output_use_model': False, 'output_use_index': True, 'save_results': False, 'skip': False, 'suffix': None, 'search_output_file': True, 'input_dir': ''}, 'lastframe': {'pre_hooks': [], 'post_hooks': [], 'output_file': None, 'output_dir': None, 'output_ext': '.fits', 'output_use_model': False, 'output_use_index': True, 'save_results': False, 'skip': False, 'suffix': None, 'search_output_file': True, 'input_dir': ''}, 'linearity': {'pre_hooks': [], 'post_hooks': [], 'output_file': None, 'output_dir': None, 'output_ext': '.fits', 'output_use_model': False, 'output_use_index': True, 'save_results': False, 'skip': False, 'suffix': None, 'search_output_file': True, 'input_dir': ''}, 'dark_current': {'pre_hooks': [], 'post_hooks': [], 'output_file': None, 'output_dir': None, 'output_ext': '.fits', 'output_use_model': False, 'output_use_index': True, 'save_results': False, 'skip': False, 'suffix': None, 'search_output_file': True, 'input_dir': '', 'dark_output': None}, 'reset': {'pre_hooks': [], 'post_hooks': [], 'output_file': None, 'output_dir': None, 'output_ext': '.fits', 'output_use_model': False, 'output_use_index': True, 'save_results': False, 'skip': True, 'suffix': None, 'search_output_file': True, 'input_dir': ''}, 'persistence': {'pre_hooks': [], 'post_hooks': [], 'output_file': None, 'output_dir': None, 'output_ext': '.fits', 'output_use_model': False, 'output_use_index': True, 'save_results': False, 'skip': False, 'suffix': None, 'search_output_file': True, 'input_dir': '', 'input_trapsfilled': '', 'flag_pers_cutoff': 40.0, 'save_persistence': False, 'save_trapsfilled': True}, 'jump': {'pre_hooks': [], 'post_hooks': [], 'output_file': None, 'output_dir': None, 'output_ext': '.fits', 'output_use_model': False, 'output_use_index': True, 'save_results': False, 'skip': False, 'suffix': None, 'search_output_file': True, 'input_dir': '', 'rejection_threshold': 4.0, 'three_group_rejection_threshold': 6.0, 'four_group_rejection_threshold': 5.0, 'maximum_cores': 'none', 'flag_4_neighbors': True, 'max_jump_to_flag_neighbors': 1000.0, 'min_jump_to_flag_neighbors': 10.0}, 'ramp_fit': {'pre_hooks': [], 'post_hooks': [], 'output_file': None, 'output_dir': None, 'output_ext': '.fits', 'output_use_model': False, 'output_use_index': True, 'save_results': False, 'skip': False, 'suffix': None, 'search_output_file': True, 'input_dir': '', 'int_name': '', 'save_opt': False, 'opt_name': '', 'maximum_cores': 'none'}, 'gain_scale': {'pre_hooks': [], 'post_hooks': [], 'output_file': None, 'output_dir': None, 'output_ext': '.fits', 'output_use_model': False, 'output_use_index': True, 'save_results': False, 'skip': False, 'suffix': None, 'search_output_file': True, 'input_dir': ''}}}\n"
     ]
    },
    {
     "name": "stderr",
     "output_type": "stream",
     "text": [
      "2022-04-25 17:49:54,701 - stpipe.Detector1Pipeline - INFO - Prefetching reference files for dataset: 'det_image_seq1_MIRIMAGE_F1000Wexp2.fits' reftypes = ['dark', 'gain', 'ipc', 'linearity', 'mask', 'persat', 'readnoise', 'saturation', 'superbias', 'trapdensity', 'trappars']\n",
      "2022-04-25 17:49:54,705 - stpipe.Detector1Pipeline - INFO - Prefetch for DARK reference file is '/home/cperrot/crds_cache/references/jwst/miri/jwst_miri_dark_0058.fits'.\n",
      "2022-04-25 17:49:54,706 - stpipe.Detector1Pipeline - INFO - Prefetch for GAIN reference file is '/home/cperrot/crds_cache/references/jwst/miri/jwst_miri_gain_0008.fits'.\n",
      "2022-04-25 17:49:54,707 - stpipe.Detector1Pipeline - INFO - Prefetch for IPC reference file is '/home/cperrot/crds_cache/references/jwst/miri/jwst_miri_ipc_0009.fits'.\n",
      "2022-04-25 17:49:54,707 - stpipe.Detector1Pipeline - INFO - Prefetch for LINEARITY reference file is '/home/cperrot/crds_cache/references/jwst/miri/jwst_miri_linearity_0024.fits'.\n",
      "2022-04-25 17:49:54,708 - stpipe.Detector1Pipeline - INFO - Prefetch for MASK reference file is '/home/cperrot/crds_cache/references/jwst/miri/jwst_miri_mask_0028.fits'.\n",
      "2022-04-25 17:49:54,708 - stpipe.Detector1Pipeline - INFO - Prefetch for PERSAT reference file is 'N/A'.\n",
      "2022-04-25 17:49:54,709 - stpipe.Detector1Pipeline - INFO - Prefetch for READNOISE reference file is '/home/cperrot/crds_cache/references/jwst/miri/jwst_miri_readnoise_0057.fits'.\n",
      "2022-04-25 17:49:54,709 - stpipe.Detector1Pipeline - INFO - Prefetch for SATURATION reference file is '/home/cperrot/crds_cache/references/jwst/miri/jwst_miri_saturation_0026.fits'.\n",
      "2022-04-25 17:49:54,710 - stpipe.Detector1Pipeline - INFO - Prefetch for SUPERBIAS reference file is 'N/A'.\n",
      "2022-04-25 17:49:54,711 - stpipe.Detector1Pipeline - INFO - Prefetch for TRAPDENSITY reference file is 'N/A'.\n",
      "2022-04-25 17:49:54,712 - stpipe.Detector1Pipeline - INFO - Prefetch for TRAPPARS reference file is 'N/A'.\n",
      "2022-04-25 17:49:54,713 - stpipe.Detector1Pipeline - INFO - Starting calwebb_detector1 ...\n",
      "2022-04-25 17:49:54,864 - stpipe.Detector1Pipeline.group_scale - INFO - Step group_scale running with args (<RampModel(3, 5, 1024, 1032) from det_image_seq1_MIRIMAGE_F1000Wexp2.fits>,).\n",
      "2022-04-25 17:49:54,866 - stpipe.Detector1Pipeline.group_scale - INFO - Step group_scale parameters are: {'pre_hooks': [], 'post_hooks': [], 'output_file': None, 'output_dir': None, 'output_ext': '.fits', 'output_use_model': False, 'output_use_index': True, 'save_results': False, 'skip': False, 'suffix': None, 'search_output_file': True, 'input_dir': '/home/cperrot/Work/code/MIRISIM/corono/20220328_162102_mirisim/det_images'}\n",
      "2022-04-25 17:49:54,937 - stpipe.Detector1Pipeline.group_scale - INFO - NFRAMES=1 is a power of 2; correction not needed\n",
      "2022-04-25 17:49:54,938 - stpipe.Detector1Pipeline.group_scale - INFO - Step will be skipped\n",
      "2022-04-25 17:49:54,941 - stpipe.Detector1Pipeline.group_scale - INFO - Step group_scale done\n",
      "2022-04-25 17:49:55,015 - stpipe.Detector1Pipeline.dq_init - INFO - Step dq_init running with args (<RampModel(3, 5, 1024, 1032) from det_image_seq1_MIRIMAGE_F1000Wexp2.fits>,).\n",
      "2022-04-25 17:49:55,018 - stpipe.Detector1Pipeline.dq_init - INFO - Step dq_init parameters are: {'pre_hooks': [], 'post_hooks': [], 'output_file': None, 'output_dir': None, 'output_ext': '.fits', 'output_use_model': False, 'output_use_index': True, 'save_results': False, 'skip': False, 'suffix': None, 'search_output_file': True, 'input_dir': '/home/cperrot/Work/code/MIRISIM/corono/20220328_162102_mirisim/det_images'}\n",
      "2022-04-25 17:49:55,044 - stpipe.Detector1Pipeline.dq_init - INFO - Using MASK reference file /home/cperrot/crds_cache/references/jwst/miri/jwst_miri_mask_0028.fits\n",
      "2022-04-25 17:49:55,241 - stpipe.Detector1Pipeline.dq_init - INFO - Step dq_init done\n",
      "2022-04-25 17:49:55,309 - stpipe.Detector1Pipeline.saturation - INFO - Step saturation running with args (<RampModel(3, 5, 1024, 1032) from det_image_seq1_MIRIMAGE_F1000Wexp2.fits>,).\n",
      "2022-04-25 17:49:55,311 - stpipe.Detector1Pipeline.saturation - INFO - Step saturation parameters are: {'pre_hooks': [], 'post_hooks': [], 'output_file': None, 'output_dir': None, 'output_ext': '.fits', 'output_use_model': False, 'output_use_index': True, 'save_results': False, 'skip': False, 'suffix': None, 'search_output_file': True, 'input_dir': '/home/cperrot/Work/code/MIRISIM/corono/20220328_162102_mirisim/det_images'}\n",
      "2022-04-25 17:49:55,340 - stpipe.Detector1Pipeline.saturation - INFO - Using SATURATION reference file /home/cperrot/crds_cache/references/jwst/miri/jwst_miri_saturation_0026.fits\n",
      "2022-04-25 17:49:55,530 - stpipe.Detector1Pipeline.saturation - INFO - Detected 396 saturated pixels\n",
      "2022-04-25 17:49:55,538 - stpipe.Detector1Pipeline.saturation - INFO - Detected 0 A/D floor pixels\n",
      "2022-04-25 17:49:55,546 - stpipe.Detector1Pipeline.saturation - INFO - Step saturation done\n",
      "2022-04-25 17:49:55,618 - stpipe.Detector1Pipeline.ipc - INFO - Step ipc running with args (<RampModel(3, 5, 1024, 1032) from det_image_seq1_MIRIMAGE_F1000Wexp2.fits>,).\n",
      "2022-04-25 17:49:55,620 - stpipe.Detector1Pipeline.ipc - INFO - Step ipc parameters are: {'pre_hooks': [], 'post_hooks': [], 'output_file': None, 'output_dir': None, 'output_ext': '.fits', 'output_use_model': False, 'output_use_index': True, 'save_results': False, 'skip': False, 'suffix': None, 'search_output_file': True, 'input_dir': '/home/cperrot/Work/code/MIRISIM/corono/20220328_162102_mirisim/det_images'}\n",
      "2022-04-25 17:49:55,651 - stpipe.Detector1Pipeline.ipc - INFO - Using IPC reference file /home/cperrot/crds_cache/references/jwst/miri/jwst_miri_ipc_0009.fits\n",
      "2022-04-25 17:49:56,083 - stpipe.Detector1Pipeline.ipc - INFO - Step ipc done\n",
      "2022-04-25 17:49:56,154 - stpipe.Detector1Pipeline.firstframe - INFO - Step firstframe running with args (<RampModel(3, 5, 1024, 1032) from det_image_seq1_MIRIMAGE_F1000Wexp2.fits>,).\n",
      "2022-04-25 17:49:56,156 - stpipe.Detector1Pipeline.firstframe - INFO - Step firstframe parameters are: {'pre_hooks': [], 'post_hooks': [], 'output_file': None, 'output_dir': None, 'output_ext': '.fits', 'output_use_model': False, 'output_use_index': True, 'save_results': False, 'skip': False, 'suffix': None, 'search_output_file': True, 'input_dir': '/home/cperrot/Work/code/MIRISIM/corono/20220328_162102_mirisim/det_images'}\n",
      "2022-04-25 17:49:56,228 - stpipe.Detector1Pipeline.firstframe - INFO - Step firstframe done\n",
      "2022-04-25 17:49:56,301 - stpipe.Detector1Pipeline.lastframe - INFO - Step lastframe running with args (<RampModel(3, 5, 1024, 1032) from det_image_seq1_MIRIMAGE_F1000Wexp2.fits>,).\n",
      "2022-04-25 17:49:56,303 - stpipe.Detector1Pipeline.lastframe - INFO - Step lastframe parameters are: {'pre_hooks': [], 'post_hooks': [], 'output_file': None, 'output_dir': None, 'output_ext': '.fits', 'output_use_model': False, 'output_use_index': True, 'save_results': False, 'skip': False, 'suffix': None, 'search_output_file': True, 'input_dir': '/home/cperrot/Work/code/MIRISIM/corono/20220328_162102_mirisim/det_images'}\n",
      "2022-04-25 17:49:56,377 - stpipe.Detector1Pipeline.lastframe - INFO - Step lastframe done\n",
      "2022-04-25 17:49:56,447 - stpipe.Detector1Pipeline.reset - INFO - Step reset running with args (<RampModel(3, 5, 1024, 1032) from det_image_seq1_MIRIMAGE_F1000Wexp2.fits>,).\n",
      "2022-04-25 17:49:56,449 - stpipe.Detector1Pipeline.reset - INFO - Step reset parameters are: {'pre_hooks': [], 'post_hooks': [], 'output_file': None, 'output_dir': None, 'output_ext': '.fits', 'output_use_model': False, 'output_use_index': True, 'save_results': False, 'skip': True, 'suffix': None, 'search_output_file': True, 'input_dir': '/home/cperrot/Work/code/MIRISIM/corono/20220328_162102_mirisim/det_images'}\n",
      "2022-04-25 17:49:56,450 - stpipe.Detector1Pipeline.reset - INFO - Step skipped.\n",
      "2022-04-25 17:49:56,455 - stpipe.Detector1Pipeline.reset - INFO - Step reset done\n",
      "2022-04-25 17:49:56,525 - stpipe.Detector1Pipeline.linearity - INFO - Step linearity running with args (<RampModel(3, 5, 1024, 1032) from det_image_seq1_MIRIMAGE_F1000Wexp2.fits>,).\n",
      "2022-04-25 17:49:56,527 - stpipe.Detector1Pipeline.linearity - INFO - Step linearity parameters are: {'pre_hooks': [], 'post_hooks': [], 'output_file': None, 'output_dir': None, 'output_ext': '.fits', 'output_use_model': False, 'output_use_index': True, 'save_results': False, 'skip': False, 'suffix': None, 'search_output_file': True, 'input_dir': '/home/cperrot/Work/code/MIRISIM/corono/20220328_162102_mirisim/det_images'}\n"
     ]
    },
    {
     "name": "stderr",
     "output_type": "stream",
     "text": [
      "2022-04-25 17:49:56,554 - stpipe.Detector1Pipeline.linearity - INFO - Using Linearity reference file /home/cperrot/crds_cache/references/jwst/miri/jwst_miri_linearity_0024.fits\n",
      "2022-04-25 17:49:56,882 - stpipe.Detector1Pipeline.linearity - INFO - Step linearity done\n",
      "2022-04-25 17:49:56,960 - stpipe.Detector1Pipeline.rscd - INFO - Step rscd running with args (<RampModel(3, 5, 1024, 1032) from det_image_seq1_MIRIMAGE_F1000Wexp2.fits>,).\n",
      "2022-04-25 17:49:56,961 - stpipe.Detector1Pipeline.rscd - INFO - Step rscd parameters are: {'pre_hooks': [], 'post_hooks': [], 'output_file': None, 'output_dir': None, 'output_ext': '.fits', 'output_use_model': False, 'output_use_index': True, 'save_results': False, 'skip': True, 'suffix': None, 'search_output_file': True, 'input_dir': '/home/cperrot/Work/code/MIRISIM/corono/20220328_162102_mirisim/det_images', 'type': 'baseline'}\n",
      "2022-04-25 17:49:56,962 - stpipe.Detector1Pipeline.rscd - INFO - Step skipped.\n",
      "2022-04-25 17:49:56,966 - stpipe.Detector1Pipeline.rscd - INFO - Step rscd done\n",
      "2022-04-25 17:49:57,037 - stpipe.Detector1Pipeline.dark_current - INFO - Step dark_current running with args (<RampModel(3, 5, 1024, 1032) from det_image_seq1_MIRIMAGE_F1000Wexp2.fits>,).\n",
      "2022-04-25 17:49:57,040 - stpipe.Detector1Pipeline.dark_current - INFO - Step dark_current parameters are: {'pre_hooks': [], 'post_hooks': [], 'output_file': None, 'output_dir': '/home/cperrot/Work/code/MIRISIM/corono/corono_S1/', 'output_ext': '.fits', 'output_use_model': False, 'output_use_index': True, 'save_results': False, 'skip': False, 'suffix': None, 'search_output_file': True, 'input_dir': '/home/cperrot/Work/code/MIRISIM/corono/20220328_162102_mirisim/det_images', 'dark_output': None}\n",
      "2022-04-25 17:49:57,066 - stpipe.Detector1Pipeline.dark_current - INFO - Using DARK reference file /home/cperrot/crds_cache/references/jwst/miri/jwst_miri_dark_0058.fits\n",
      "2022-04-25 17:49:57,875 - stpipe.Detector1Pipeline.dark_current - INFO - Science data nints=3, ngroups=5, nframes=1, groupgap=0\n",
      "2022-04-25 17:49:57,876 - stpipe.Detector1Pipeline.dark_current - INFO - Dark data nints=2, ngroups=200, nframes=1, groupgap=0\n",
      "2022-04-25 17:49:58,429 - stpipe.Detector1Pipeline.dark_current - INFO - Step dark_current done\n",
      "2022-04-25 17:49:58,516 - stpipe.Detector1Pipeline.refpix - INFO - Step refpix running with args (<RampModel(3, 5, 1024, 1032) from det_image_seq1_MIRIMAGE_F1000Wexp2.fits>,).\n",
      "2022-04-25 17:49:58,518 - stpipe.Detector1Pipeline.refpix - INFO - Step refpix parameters are: {'pre_hooks': [], 'post_hooks': [], 'output_file': None, 'output_dir': None, 'output_ext': '.fits', 'output_use_model': False, 'output_use_index': True, 'save_results': False, 'skip': True, 'suffix': None, 'search_output_file': True, 'input_dir': '/home/cperrot/Work/code/MIRISIM/corono/20220328_162102_mirisim/det_images', 'odd_even_columns': True, 'use_side_ref_pixels': True, 'side_smoothing_length': 11, 'side_gain': 1.0, 'odd_even_rows': True}\n",
      "2022-04-25 17:49:58,519 - stpipe.Detector1Pipeline.refpix - INFO - Step skipped.\n",
      "2022-04-25 17:49:58,521 - stpipe.Detector1Pipeline.refpix - INFO - Step refpix done\n",
      "2022-04-25 17:49:58,600 - stpipe.Detector1Pipeline.jump - INFO - Step jump running with args (<RampModel(3, 5, 1024, 1032) from det_image_seq1_MIRIMAGE_F1000Wexp2.fits>,).\n",
      "2022-04-25 17:49:58,602 - stpipe.Detector1Pipeline.jump - INFO - Step jump parameters are: {'pre_hooks': [], 'post_hooks': [], 'output_file': None, 'output_dir': None, 'output_ext': '.fits', 'output_use_model': False, 'output_use_index': True, 'save_results': False, 'skip': False, 'suffix': None, 'search_output_file': True, 'input_dir': '/home/cperrot/Work/code/MIRISIM/corono/20220328_162102_mirisim/det_images', 'rejection_threshold': 4.0, 'three_group_rejection_threshold': 6.0, 'four_group_rejection_threshold': 5.0, 'maximum_cores': 'none', 'flag_4_neighbors': True, 'max_jump_to_flag_neighbors': 1000.0, 'min_jump_to_flag_neighbors': 10.0}\n",
      "2022-04-25 17:49:58,615 - stpipe.Detector1Pipeline.jump - INFO - CR rejection threshold = 4 sigma\n",
      "2022-04-25 17:49:58,631 - stpipe.Detector1Pipeline.jump - INFO - Using GAIN reference file: /home/cperrot/crds_cache/references/jwst/miri/jwst_miri_gain_0008.fits\n",
      "2022-04-25 17:49:58,673 - stpipe.Detector1Pipeline.jump - INFO - Using READNOISE reference file: /home/cperrot/crds_cache/references/jwst/miri/jwst_miri_readnoise_0057.fits\n",
      "2022-04-25 17:49:58,806 - stpipe.Detector1Pipeline.jump - INFO - Executing two-point difference method\n",
      "2022-04-25 17:49:58,824 - stpipe.Detector1Pipeline.jump - INFO - Working on integration 1:\n",
      "2022-04-25 17:49:59,186 - stpipe.Detector1Pipeline.jump - WARNING - /home/cperrot/anaconda3/envs/mirisim/lib/python3.9/site-packages/stcal/jump/twopoint_difference.py:116: RuntimeWarning: All-NaN slice encountered\n",
      "  max_ratio = np.nanmax(ratio, axis=0)\n",
      "\n",
      "2022-04-25 17:49:59,212 - stpipe.Detector1Pipeline.jump - INFO - From highest outlier, two-point found 0 pixels with at least one CR from five groups.\n",
      "2022-04-25 17:49:59,213 - stpipe.Detector1Pipeline.jump - INFO - From highest outlier, two-point found 0 pixels with at least one CR from four groups.\n",
      "2022-04-25 17:49:59,214 - stpipe.Detector1Pipeline.jump - INFO - From highest outlier, two-point found 1138 pixels with at least one CR from three groups.\n",
      "2022-04-25 17:49:59,276 - stpipe.Detector1Pipeline.jump - INFO - Working on integration 2:\n",
      "2022-04-25 17:49:59,665 - stpipe.Detector1Pipeline.jump - INFO - From highest outlier, two-point found 0 pixels with at least one CR from five groups.\n",
      "2022-04-25 17:49:59,666 - stpipe.Detector1Pipeline.jump - INFO - From highest outlier, two-point found 0 pixels with at least one CR from four groups.\n",
      "2022-04-25 17:49:59,667 - stpipe.Detector1Pipeline.jump - INFO - From highest outlier, two-point found 926 pixels with at least one CR from three groups.\n",
      "2022-04-25 17:49:59,721 - stpipe.Detector1Pipeline.jump - INFO - Working on integration 3:\n",
      "2022-04-25 17:50:00,115 - stpipe.Detector1Pipeline.jump - INFO - From highest outlier, two-point found 0 pixels with at least one CR from five groups.\n",
      "2022-04-25 17:50:00,117 - stpipe.Detector1Pipeline.jump - INFO - From highest outlier, two-point found 0 pixels with at least one CR from four groups.\n",
      "2022-04-25 17:50:00,117 - stpipe.Detector1Pipeline.jump - INFO - From highest outlier, two-point found 1002 pixels with at least one CR from three groups.\n",
      "2022-04-25 17:50:00,182 - stpipe.Detector1Pipeline.jump - INFO - Total elapsed time = 1.37549 sec\n",
      "2022-04-25 17:50:00,186 - stpipe.Detector1Pipeline.jump - INFO - The execution time in seconds: 1.570970\n",
      "2022-04-25 17:50:00,192 - stpipe.Detector1Pipeline.jump - INFO - Step jump done\n",
      "2022-04-25 17:50:00,271 - stpipe.Detector1Pipeline.ramp_fit - INFO - Step ramp_fit running with args (<RampModel(3, 5, 1024, 1032) from det_image_seq1_MIRIMAGE_F1000Wexp2.fits>,).\n",
      "2022-04-25 17:50:00,273 - stpipe.Detector1Pipeline.ramp_fit - INFO - Step ramp_fit parameters are: {'pre_hooks': [], 'post_hooks': [], 'output_file': None, 'output_dir': '/home/cperrot/Work/code/MIRISIM/corono/corono_S1/', 'output_ext': '.fits', 'output_use_model': False, 'output_use_index': True, 'save_results': False, 'skip': False, 'suffix': None, 'search_output_file': True, 'input_dir': '/home/cperrot/Work/code/MIRISIM/corono/20220328_162102_mirisim/det_images', 'int_name': '', 'save_opt': False, 'opt_name': '', 'maximum_cores': 'none'}\n",
      "2022-04-25 17:50:00,327 - stpipe.Detector1Pipeline.ramp_fit - INFO - Using READNOISE reference file: /home/cperrot/crds_cache/references/jwst/miri/jwst_miri_readnoise_0057.fits\n",
      "2022-04-25 17:50:00,328 - stpipe.Detector1Pipeline.ramp_fit - INFO - Using GAIN reference file: /home/cperrot/crds_cache/references/jwst/miri/jwst_miri_gain_0008.fits\n",
      "2022-04-25 17:50:00,403 - stpipe.Detector1Pipeline.ramp_fit - INFO - Using algorithm = ols\n",
      "2022-04-25 17:50:00,404 - stpipe.Detector1Pipeline.ramp_fit - INFO - Using weighting = optimal\n",
      "2022-04-25 17:50:00,422 - stpipe.Detector1Pipeline.ramp_fit - INFO - Number of leading groups that are flagged as DO_NOT_USE: 1\n",
      "2022-04-25 17:50:00,425 - stpipe.Detector1Pipeline.ramp_fit - INFO - MIRI dataset has all pixels in the final group flagged as DO_NOT_USE.\n",
      "2022-04-25 17:50:04,822 - stpipe.Detector1Pipeline.ramp_fit - INFO - Number of groups per integration: 3\n"
     ]
    },
    {
     "name": "stderr",
     "output_type": "stream",
     "text": [
      "2022-04-25 17:50:04,823 - stpipe.Detector1Pipeline.ramp_fit - INFO - Number of integrations: 3\n",
      "2022-04-25 17:50:04,904 - stpipe.Detector1Pipeline.ramp_fit - INFO - Step ramp_fit done\n",
      "2022-04-25 17:50:04,982 - stpipe.Detector1Pipeline.gain_scale - INFO - Step gain_scale running with args (<ImageModel(1024, 1032) from det_image_seq1_MIRIMAGE_F1000Wexp2.fits>,).\n",
      "2022-04-25 17:50:04,984 - stpipe.Detector1Pipeline.gain_scale - INFO - Step gain_scale parameters are: {'pre_hooks': [], 'post_hooks': [], 'output_file': None, 'output_dir': None, 'output_ext': '.fits', 'output_use_model': False, 'output_use_index': True, 'save_results': False, 'skip': False, 'suffix': 'gain_scale', 'search_output_file': True, 'input_dir': '/home/cperrot/Work/code/MIRISIM/corono/20220328_162102_mirisim/det_images'}\n",
      "2022-04-25 17:50:05,034 - stpipe.Detector1Pipeline.gain_scale - INFO - GAINFACT not found in gain reference file\n",
      "2022-04-25 17:50:05,035 - stpipe.Detector1Pipeline.gain_scale - INFO - Step will be skipped\n",
      "2022-04-25 17:50:05,041 - stpipe.Detector1Pipeline.gain_scale - INFO - Step gain_scale done\n",
      "2022-04-25 17:50:05,123 - stpipe.Detector1Pipeline.gain_scale - INFO - Step gain_scale running with args (<CubeModel(3, 1024, 1032) from det_image_seq1_MIRIMAGE_F1000Wexp2.fits>,).\n",
      "2022-04-25 17:50:05,125 - stpipe.Detector1Pipeline.gain_scale - INFO - Step gain_scale parameters are: {'pre_hooks': [], 'post_hooks': [], 'output_file': None, 'output_dir': None, 'output_ext': '.fits', 'output_use_model': False, 'output_use_index': True, 'save_results': False, 'skip': False, 'suffix': 'gain_scaleints', 'search_output_file': True, 'input_dir': '/home/cperrot/Work/code/MIRISIM/corono/20220328_162102_mirisim/det_images'}\n",
      "2022-04-25 17:50:05,195 - stpipe.Detector1Pipeline.gain_scale - INFO - GAINFACT not found in gain reference file\n",
      "2022-04-25 17:50:05,196 - stpipe.Detector1Pipeline.gain_scale - INFO - Step will be skipped\n",
      "2022-04-25 17:50:05,205 - stpipe.Detector1Pipeline.gain_scale - INFO - Step gain_scale done\n",
      "2022-04-25 17:50:05,356 - stpipe.Detector1Pipeline - INFO - Saved model in /home/cperrot/Work/code/MIRISIM/corono/corono_S1/det_image_seq1_MIRIMAGE_F1000Wexp2_rateints.fits\n",
      "2022-04-25 17:50:05,358 - stpipe.Detector1Pipeline - INFO - ... ending calwebb_detector1\n",
      "2022-04-25 17:50:05,468 - stpipe.Detector1Pipeline - INFO - Saved model in /home/cperrot/Work/code/MIRISIM/corono/corono_S1/det_image_seq1_MIRIMAGE_F1000Wexp2_rate.fits\n",
      "2022-04-25 17:50:05,469 - stpipe.Detector1Pipeline - INFO - Step Detector1Pipeline done\n"
     ]
    }
   ],
   "source": [
    "runmany(rundet1, raw_files)"
   ]
  },
  {
   "cell_type": "code",
   "execution_count": 10,
   "id": "66bfb033",
   "metadata": {},
   "outputs": [
    {
     "name": "stdout",
     "output_type": "stream",
     "text": [
      "Found 2 input files to process\n"
     ]
    }
   ],
   "source": [
    "sstring = path_stage1+'det*rate.fits'\n",
    "stage1_files = sorted(glob.glob(sstring))\n",
    "print('Found ' + str(len(stage1_files)) + ' input files to process')"
   ]
  },
  {
   "cell_type": "code",
   "execution_count": 11,
   "id": "adba14aa",
   "metadata": {},
   "outputs": [
    {
     "name": "stdout",
     "output_type": "stream",
     "text": [
      "{\n",
      "    \"asn_type\": \"image2\",\n",
      "    \"asn_rule\": \"DMSLevel2bBase\",\n",
      "    \"version_id\": null,\n",
      "    \"code_version\": \"1.4.3\",\n",
      "    \"degraded_status\": \"No known degraded exposures in association.\",\n",
      "    \"program\": \"noprogram\",\n",
      "    \"constraints\": \"No constraints\",\n",
      "    \"asn_id\": \"a3001\",\n",
      "    \"asn_pool\": \"lvl2-asn_pool\",\n",
      "    \"products\": [\n",
      "        {\n",
      "            \"name\": \"lvl2-asn_exposure1\",\n",
      "            \"members\": [\n",
      "                {\n",
      "                    \"expname\": \"/home/cperrot/Work/code/MIRISIM/corono/corono_S1/det_image_seq1_MIRIMAGE_F1000Wexp1_rate.fits\",\n",
      "                    \"exptype\": \"science\"\n",
      "                }\n",
      "            ]\n",
      "        },\n",
      "        {\n",
      "            \"name\": \"lvl2-asn_exposure2\",\n",
      "            \"members\": [\n",
      "                {\n",
      "                    \"expname\": \"/home/cperrot/Work/code/MIRISIM/corono/corono_S1/det_image_seq1_MIRIMAGE_F1000Wexp2_rate.fits\",\n",
      "                    \"exptype\": \"science\"\n",
      "                }\n",
      "            ]\n",
      "        }\n",
      "    ]\n",
      "}\n"
     ]
    }
   ],
   "source": [
    "writel2asn(stage1_files, 'lvl2-asn','Level2')"
   ]
  },
  {
   "cell_type": "code",
   "execution_count": 12,
   "id": "ff067240",
   "metadata": {},
   "outputs": [
    {
     "name": "stdout",
     "output_type": "stream",
     "text": [
      "Run stage 2 of the pipeline\n"
     ]
    }
   ],
   "source": [
    "# RUN STAGE 2\n",
    "print(\"Run stage 2 of the pipeline\")"
   ]
  },
  {
   "cell_type": "markdown",
   "id": "1f4181f8",
   "metadata": {},
   "source": [
    "Function du stage 2"
   ]
  },
  {
   "cell_type": "code",
   "execution_count": 17,
   "id": "e40bb904",
   "metadata": {},
   "outputs": [],
   "source": [
    "def runimage2(filename):\n",
    "    image2 = Image2Pipeline()\n",
    "    image2.output_dir = path_stage2\n",
    "    image2.background.skip = False #\n",
    "    image2.assign_wcs.skip = False #  Derives the world coordinate solution- never skip this! \n",
    "    image2.flat_field.skip = False #  Applies a pixel flatfield (currently all unity)\n",
    "    image2.photom.skip = False # Applies photometric calibration flat\n",
    "    image2.resample.skip = False # Resampling is only performed for exposure types “MIR_IMAGE”, “NRC_IMAGE”, and “NIS_IMAGE”.\n",
    "\n",
    "    \n",
    "    image2.save_results = True\n",
    "    image2(filename)"
   ]
  },
  {
   "cell_type": "code",
   "execution_count": 18,
   "id": "7203f73a",
   "metadata": {},
   "outputs": [],
   "source": [
    "def writel3asn(files,asnfile,prodname,**kwargs):\n",
    "    # Define the basic association of science files\n",
    "    asn = afl.asn_from_list(files,rule=DMS_Level3_Base,product_name=prodname)\n",
    "    # Add any background files to the association\n",
    "    if ('bg' in kwargs):\n",
    "        for bgfile in kwargs['bg']:\n",
    "            asn['products'][0]['members'].append({'expname': bgfile, 'exptype':'background'})\n",
    "    # Write the association to a json file\n",
    "    _, serialized = asn.dump()\n",
    "    with open(path_stage3+asnfile, 'w') as outfile:\n",
    "        outfile.write(serialized)"
   ]
  },
  {
   "cell_type": "code",
   "execution_count": null,
   "id": "d70d84c8",
   "metadata": {},
   "outputs": [
    {
     "name": "stderr",
     "output_type": "stream",
     "text": [
      "2022-04-25 17:58:25,477 - stpipe.Image2Pipeline - INFO - Image2Pipeline instance created.\n",
      "2022-04-25 17:58:25,481 - stpipe.Image2Pipeline.bkg_subtract - INFO - BackgroundStep instance created.\n",
      "2022-04-25 17:58:25,483 - stpipe.Image2Pipeline.assign_wcs - INFO - AssignWcsStep instance created.\n",
      "2022-04-25 17:58:25,485 - stpipe.Image2Pipeline.flat_field - INFO - FlatFieldStep instance created.\n",
      "2022-04-25 17:58:25,486 - stpipe.Image2Pipeline.photom - INFO - PhotomStep instance created.\n",
      "2022-04-25 17:58:25,489 - stpipe.Image2Pipeline.resample - INFO - ResampleStep instance created.\n",
      "2022-04-25 17:58:25,495 - stpipe.Image2Pipeline - INFO - Image2Pipeline instance created.\n",
      "2022-04-25 17:58:25,497 - stpipe.Image2Pipeline.bkg_subtract - INFO - BackgroundStep instance created.\n",
      "2022-04-25 17:58:25,499 - stpipe.Image2Pipeline.assign_wcs - INFO - AssignWcsStep instance created.\n",
      "2022-04-25 17:58:25,501 - stpipe.Image2Pipeline.flat_field - INFO - FlatFieldStep instance created.\n",
      "2022-04-25 17:58:25,503 - stpipe.Image2Pipeline.photom - INFO - PhotomStep instance created.\n",
      "2022-04-25 17:58:25,506 - stpipe.Image2Pipeline.resample - INFO - ResampleStep instance created.\n",
      "Process ForkPoolWorker-2:\n",
      "Traceback (most recent call last):\n",
      "  File \"/home/cperrot/anaconda3/envs/mirisim/lib/python3.9/multiprocessing/process.py\", line 315, in _bootstrap\n",
      "    self.run()\n",
      "  File \"/home/cperrot/anaconda3/envs/mirisim/lib/python3.9/multiprocessing/process.py\", line 108, in run\n",
      "    self._target(*self._args, **self._kwargs)\n",
      "  File \"/home/cperrot/anaconda3/envs/mirisim/lib/python3.9/multiprocessing/pool.py\", line 114, in worker\n",
      "    task = get()\n",
      "  File \"/home/cperrot/anaconda3/envs/mirisim/lib/python3.9/multiprocessing/queues.py\", line 366, in get\n",
      "    res = self._reader.recv_bytes()\n",
      "  File \"/home/cperrot/anaconda3/envs/mirisim/lib/python3.9/multiprocessing/connection.py\", line 221, in recv_bytes\n",
      "    buf = self._recv_bytes(maxlength)\n",
      "  File \"/home/cperrot/anaconda3/envs/mirisim/lib/python3.9/multiprocessing/connection.py\", line 419, in _recv_bytes\n",
      "    buf = self._recv(4)\n",
      "  File \"/home/cperrot/anaconda3/envs/mirisim/lib/python3.9/multiprocessing/connection.py\", line 384, in _recv\n",
      "    chunk = read(handle, remaining)\n",
      "KeyboardInterrupt\n"
     ]
    }
   ],
   "source": [
    "runmany(runimage2, stage1_files)"
   ]
  },
  {
   "cell_type": "code",
   "execution_count": 19,
   "id": "36ab4f18",
   "metadata": {},
   "outputs": [
    {
     "name": "stderr",
     "output_type": "stream",
     "text": [
      "2022-04-25 18:02:08,189 - stpipe.Image2Pipeline - INFO - Image2Pipeline instance created.\n",
      "2022-04-25 18:02:08,191 - stpipe.Image2Pipeline.bkg_subtract - INFO - BackgroundStep instance created.\n",
      "2022-04-25 18:02:08,194 - stpipe.Image2Pipeline.assign_wcs - INFO - AssignWcsStep instance created.\n",
      "2022-04-25 18:02:08,196 - stpipe.Image2Pipeline.flat_field - INFO - FlatFieldStep instance created.\n",
      "2022-04-25 18:02:08,199 - stpipe.Image2Pipeline.photom - INFO - PhotomStep instance created.\n",
      "2022-04-25 18:02:08,201 - stpipe.Image2Pipeline.resample - INFO - ResampleStep instance created.\n"
     ]
    },
    {
     "name": "stdout",
     "output_type": "stream",
     "text": [
      "ERROR! Session/line number was not unique in"
     ]
    },
    {
     "name": "stderr",
     "output_type": "stream",
     "text": [
      "2022-04-25 18:02:08,342 - stpipe.Image2Pipeline - INFO - Step Image2Pipeline running with args ('/home/cperrot/Work/code/MIRISIM/corono/corono_S2/lvl2-asn.json',).\n"
     ]
    },
    {
     "name": "stdout",
     "output_type": "stream",
     "text": [
      " database. History logging moved to new session"
     ]
    },
    {
     "name": "stderr",
     "output_type": "stream",
     "text": [
      "2022-04-25 18:02:08,349 - stpipe.Image2Pipeline - INFO - Step Image2Pipeline parameters are: {'pre_hooks': [], 'post_hooks': [], 'output_file': None, 'output_dir': '/home/cperrot/Work/code/MIRISIM/corono/corono_S2/', 'output_ext': '.fits', 'output_use_model': False, 'output_use_index': True, 'save_results': True, 'skip': False, 'suffix': None, 'search_output_file': True, 'input_dir': '', 'save_bsub': False, 'steps': {'bkg_subtract': {'pre_hooks': [], 'post_hooks': [], 'output_file': None, 'output_dir': None, 'output_ext': '.fits', 'output_use_model': False, 'output_use_index': True, 'save_results': False, 'skip': False, 'suffix': None, 'search_output_file': True, 'input_dir': '', 'save_combined_background': False, 'sigma': 3.0, 'maxiters': None}, 'assign_wcs': {'pre_hooks': [], 'post_hooks': [], 'output_file': None, 'output_dir': None, 'output_ext': '.fits', 'output_use_model': False, 'output_use_index': True, 'save_results': False, 'skip': False, 'suffix': None, 'search_output_file': True, 'input_dir': '', 'sip_approx': True, 'sip_max_pix_error': 0.25, 'sip_degree': None, 'sip_max_inv_pix_error': 0.25, 'sip_inv_degree': None, 'sip_npoints': 32, 'slit_y_low': -0.55, 'slit_y_high': 0.55}, 'flat_field': {'pre_hooks': [], 'post_hooks': [], 'output_file': None, 'output_dir': None, 'output_ext': '.fits', 'output_use_model': False, 'output_use_index': True, 'save_results': False, 'skip': False, 'suffix': None, 'search_output_file': True, 'input_dir': '', 'save_interpolated_flat': False, 'user_supplied_flat': None, 'inverse': False}, 'photom': {'pre_hooks': [], 'post_hooks': [], 'output_file': None, 'output_dir': None, 'output_ext': '.fits', 'output_use_model': False, 'output_use_index': True, 'save_results': False, 'skip': False, 'suffix': None, 'search_output_file': True, 'input_dir': '', 'inverse': False, 'source_type': None}, 'resample': {'pre_hooks': [], 'post_hooks': [], 'output_file': None, 'output_dir': None, 'output_ext': '.fits', 'output_use_model': False, 'output_use_index': True, 'save_results': False, 'skip': False, 'suffix': None, 'search_output_file': True, 'input_dir': '', 'pixfrac': 1.0, 'kernel': 'square', 'fillval': 'INDEF', 'weight_type': 'ivm', 'output_shape': None, 'crpix': None, 'crval': None, 'rotation': None, 'pixel_scale_ratio': 1.0, 'pixel_scale': None, 'single': False, 'blendheaders': True, 'allowed_memory': None}}}\n"
     ]
    },
    {
     "name": "stdout",
     "output_type": "stream",
     "text": [
      " 118\n"
     ]
    },
    {
     "name": "stderr",
     "output_type": "stream",
     "text": [
      "2022-04-25 18:02:09,094 - stpipe.Image2Pipeline - INFO - Prefetching reference files for dataset: 'det_image_seq1_MIRIMAGE_F1000Wexp1_rate.fits' reftypes = ['area', 'camera', 'collimator', 'dflat', 'disperser', 'distortion', 'drizpars', 'fflat', 'filteroffset', 'flat', 'fore', 'fpa', 'ifufore', 'ifupost', 'ifuslicer', 'msa', 'ote', 'photom', 'regions', 'sflat', 'specwcs', 'wavelengthrange', 'wfssbkg']\n",
      "2022-04-25 18:02:10,252 - stpipe.Image2Pipeline - INFO - Prefetch for AREA reference file is '/home/cperrot/crds_cache/references/jwst/miri/jwst_miri_area_0004.fits'.\n",
      "2022-04-25 18:02:10,253 - stpipe.Image2Pipeline - INFO - Prefetch for CAMERA reference file is 'N/A'.\n",
      "2022-04-25 18:02:10,254 - stpipe.Image2Pipeline - INFO - Prefetch for COLLIMATOR reference file is 'N/A'.\n",
      "2022-04-25 18:02:10,255 - stpipe.Image2Pipeline - INFO - Prefetch for DFLAT reference file is 'N/A'.\n",
      "2022-04-25 18:02:10,255 - stpipe.Image2Pipeline - INFO - Prefetch for DISPERSER reference file is 'N/A'.\n",
      "2022-04-25 18:02:10,256 - stpipe.Image2Pipeline - INFO - Prefetch for DISTORTION reference file is '/home/cperrot/crds_cache/references/jwst/miri/jwst_miri_distortion_0028.asdf'.\n",
      "2022-04-25 18:02:10,257 - stpipe.Image2Pipeline - INFO - Prefetch for DRIZPARS reference file is '/home/cperrot/crds_cache/references/jwst/miri/jwst_miri_drizpars_0001.fits'.\n",
      "2022-04-25 18:02:10,258 - stpipe.Image2Pipeline - INFO - Prefetch for FFLAT reference file is 'N/A'.\n",
      "2022-04-25 18:02:10,259 - stpipe.Image2Pipeline - INFO - Prefetch for FILTEROFFSET reference file is '/home/cperrot/crds_cache/references/jwst/miri/jwst_miri_filteroffset_0005.asdf'.\n",
      "2022-04-25 18:02:10,260 - stpipe.Image2Pipeline - INFO - Prefetch for FLAT reference file is '/home/cperrot/crds_cache/references/jwst/miri/jwst_miri_flat_0653.fits'.\n",
      "2022-04-25 18:02:10,261 - stpipe.Image2Pipeline - INFO - Prefetch for FORE reference file is 'N/A'.\n",
      "2022-04-25 18:02:10,262 - stpipe.Image2Pipeline - INFO - Prefetch for FPA reference file is 'N/A'.\n",
      "2022-04-25 18:02:10,263 - stpipe.Image2Pipeline - INFO - Prefetch for IFUFORE reference file is 'N/A'.\n",
      "2022-04-25 18:02:10,264 - stpipe.Image2Pipeline - INFO - Prefetch for IFUPOST reference file is 'N/A'.\n",
      "2022-04-25 18:02:10,264 - stpipe.Image2Pipeline - INFO - Prefetch for IFUSLICER reference file is 'N/A'.\n",
      "2022-04-25 18:02:10,265 - stpipe.Image2Pipeline - INFO - Prefetch for MSA reference file is 'N/A'.\n",
      "2022-04-25 18:02:10,266 - stpipe.Image2Pipeline - INFO - Prefetch for OTE reference file is 'N/A'.\n",
      "2022-04-25 18:02:10,267 - stpipe.Image2Pipeline - INFO - Prefetch for PHOTOM reference file is '/home/cperrot/crds_cache/references/jwst/miri/jwst_miri_photom_0073.fits'.\n",
      "2022-04-25 18:02:10,267 - stpipe.Image2Pipeline - INFO - Prefetch for REGIONS reference file is 'N/A'.\n",
      "2022-04-25 18:02:10,268 - stpipe.Image2Pipeline - INFO - Prefetch for SFLAT reference file is 'N/A'.\n",
      "2022-04-25 18:02:10,269 - stpipe.Image2Pipeline - INFO - Prefetch for SPECWCS reference file is 'N/A'.\n",
      "2022-04-25 18:02:10,270 - stpipe.Image2Pipeline - INFO - Prefetch for WAVELENGTHRANGE reference file is 'N/A'.\n",
      "2022-04-25 18:02:10,270 - stpipe.Image2Pipeline - INFO - Prefetch for WFSSBKG reference file is 'N/A'.\n",
      "2022-04-25 18:02:10,271 - stpipe.Image2Pipeline - INFO - Starting calwebb_image2 ...\n",
      "2022-04-25 18:02:10,282 - stpipe.Image2Pipeline - INFO - Processing product lvl2-asn_exposure1\n",
      "2022-04-25 18:02:10,283 - stpipe.Image2Pipeline - INFO - Working on input /home/cperrot/Work/code/MIRISIM/corono/corono_S1/det_image_seq1_MIRIMAGE_F1000Wexp1_rate.fits ...\n",
      "2022-04-25 18:02:10,453 - stpipe.Image2Pipeline.assign_wcs - INFO - Step assign_wcs running with args (<ImageModel(1024, 1032) from det_image_seq1_MIRIMAGE_F1000Wexp1_rate.fits>,).\n",
      "2022-04-25 18:02:10,455 - stpipe.Image2Pipeline.assign_wcs - INFO - Step assign_wcs parameters are: {'pre_hooks': [], 'post_hooks': [], 'output_file': None, 'output_dir': None, 'output_ext': '.fits', 'output_use_model': False, 'output_use_index': True, 'save_results': False, 'skip': False, 'suffix': None, 'search_output_file': True, 'input_dir': '/home/cperrot/Work/code/MIRISIM/corono/corono_S2', 'sip_approx': True, 'sip_max_pix_error': 0.25, 'sip_degree': None, 'sip_max_inv_pix_error': 0.25, 'sip_inv_degree': None, 'sip_npoints': 32, 'slit_y_low': -0.55, 'slit_y_high': 0.55}\n",
      "2022-04-25 18:02:10,688 - stpipe.Image2Pipeline.assign_wcs - INFO - Created a MIRI mir_image pipeline with references {'distortion': '/home/cperrot/crds_cache/references/jwst/miri/jwst_miri_distortion_0028.asdf', 'filteroffset': '/home/cperrot/crds_cache/references/jwst/miri/jwst_miri_filteroffset_0005.asdf', 'specwcs': None, 'regions': None, 'wavelengthrange': None, 'camera': None, 'collimator': None, 'disperser': None, 'fore': None, 'fpa': None, 'msa': None, 'ote': None, 'ifupost': None, 'ifufore': None, 'ifuslicer': None}\n",
      "2022-04-25 18:02:10,788 - stpipe.Image2Pipeline.assign_wcs - INFO - Update S_REGION to POLYGON ICRS  0.019772682 -0.017283271 0.022240226 0.013903733 359.991181136 0.016476543 359.988374124 -0.014724429\n",
      "2022-04-25 18:02:10,789 - stpipe.Image2Pipeline.assign_wcs - INFO - assign_wcs updated S_REGION to POLYGON ICRS  0.019772682 -0.017283271 0.022240226 0.013903733 359.991181136 0.016476543 359.988374124 -0.014724429\n",
      "2022-04-25 18:02:10,790 - stpipe.Image2Pipeline.assign_wcs - INFO - COMPLETED assign_wcs\n",
      "2022-04-25 18:02:10,840 - stpipe.Image2Pipeline.assign_wcs - WARNING - /home/cperrot/anaconda3/envs/mirisim/lib/python3.9/site-packages/astropy/modeling/fitting.py:777: AstropyUserWarning: The fit may be poorly conditioned\n",
      "\n",
      "  warnings.warn(\"The fit may be poorly conditioned\\n\",\n",
      "\n",
      "2022-04-25 18:02:10,955 - stpipe.Image2Pipeline.assign_wcs - INFO - Step assign_wcs done\n",
      "2022-04-25 18:02:11,103 - stpipe.Image2Pipeline.flat_field - INFO - Step flat_field running with args (<ImageModel(1024, 1032) from det_image_seq1_MIRIMAGE_F1000Wexp1_rate.fits>,).\n",
      "2022-04-25 18:02:11,105 - stpipe.Image2Pipeline.flat_field - INFO - Step flat_field parameters are: {'pre_hooks': [], 'post_hooks': [], 'output_file': None, 'output_dir': None, 'output_ext': '.fits', 'output_use_model': False, 'output_use_index': True, 'save_results': False, 'skip': False, 'suffix': None, 'search_output_file': True, 'input_dir': '/home/cperrot/Work/code/MIRISIM/corono/corono_S2', 'save_interpolated_flat': False, 'user_supplied_flat': None, 'inverse': False}\n",
      "2022-04-25 18:02:11,228 - stpipe.Image2Pipeline.flat_field - WARNING - Keyword CDP_PARTIAL_DATA does not correspond to an existing DQ mnemonic, so will be ignored\n",
      "2022-04-25 18:02:11,229 - stpipe.Image2Pipeline.flat_field - WARNING - Keyword CDP_LOW_QUAL does not correspond to an existing DQ mnemonic, so will be ignored\n",
      "2022-04-25 18:02:11,229 - stpipe.Image2Pipeline.flat_field - WARNING - Keyword CDP_UNRELIABLE_ERROR does not correspond to an existing DQ mnemonic, so will be ignored\n",
      "2022-04-25 18:02:11,238 - stpipe.Image2Pipeline.flat_field - WARNING - Keyword DIFF_PATTERN does not correspond to an existing DQ mnemonic, so will be ignored\n",
      "2022-04-25 18:02:11,354 - stpipe.Image2Pipeline.flat_field - INFO - Step flat_field done\n",
      "2022-04-25 18:02:11,471 - stpipe.Image2Pipeline.photom - INFO - Step photom running with args (<ImageModel(1024, 1032) from det_image_seq1_MIRIMAGE_F1000Wexp1_rate.fits>,).\n",
      "2022-04-25 18:02:11,473 - stpipe.Image2Pipeline.photom - INFO - Step photom parameters are: {'pre_hooks': [], 'post_hooks': [], 'output_file': None, 'output_dir': None, 'output_ext': '.fits', 'output_use_model': False, 'output_use_index': True, 'save_results': False, 'skip': False, 'suffix': None, 'search_output_file': True, 'input_dir': '/home/cperrot/Work/code/MIRISIM/corono/corono_S2', 'inverse': False, 'source_type': None}\n",
      "2022-04-25 18:02:11,508 - stpipe.Image2Pipeline.photom - INFO - Using photom reference file: /home/cperrot/crds_cache/references/jwst/miri/jwst_miri_photom_0073.fits\n",
      "2022-04-25 18:02:11,510 - stpipe.Image2Pipeline.photom - INFO - Using area reference file: /home/cperrot/crds_cache/references/jwst/miri/jwst_miri_area_0004.fits\n",
      "2022-04-25 18:02:11,593 - stpipe.Image2Pipeline.photom - INFO - Using instrument: MIRI\n",
      "2022-04-25 18:02:11,594 - stpipe.Image2Pipeline.photom - INFO -  detector: MIRIMAGE\n"
     ]
    },
    {
     "name": "stderr",
     "output_type": "stream",
     "text": [
      "2022-04-25 18:02:11,594 - stpipe.Image2Pipeline.photom - INFO -  exp_type: MIR_IMAGE\n",
      "2022-04-25 18:02:11,595 - stpipe.Image2Pipeline.photom - INFO -  filter: F1000W\n",
      "2022-04-25 18:02:11,654 - stpipe.Image2Pipeline.photom - INFO - Pixel area map copied to output.\n",
      "2022-04-25 18:02:11,657 - stpipe.Image2Pipeline.photom - INFO -  subarray: FULL\n",
      "2022-04-25 18:02:11,659 - stpipe.Image2Pipeline.photom - INFO - PHOTMJSR value: 0.849523\n",
      "2022-04-25 18:02:11,679 - stpipe.Image2Pipeline.photom - INFO - Step photom done\n",
      "2022-04-25 18:02:11,798 - stpipe.Image2Pipeline.resample - INFO - Step resample running with args (<ImageModel(1024, 1032) from det_image_seq1_MIRIMAGE_F1000Wexp1_rate.fits>,).\n",
      "2022-04-25 18:02:11,800 - stpipe.Image2Pipeline.resample - INFO - Step resample parameters are: {'pre_hooks': [], 'post_hooks': [], 'output_file': None, 'output_dir': None, 'output_ext': '.fits', 'output_use_model': False, 'output_use_index': True, 'save_results': True, 'skip': False, 'suffix': 'i2d', 'search_output_file': True, 'input_dir': '/home/cperrot/Work/code/MIRISIM/corono/corono_S2', 'pixfrac': 1.0, 'kernel': 'square', 'fillval': 'INDEF', 'weight_type': 'ivm', 'output_shape': None, 'crpix': None, 'crval': None, 'rotation': None, 'pixel_scale_ratio': 1.0, 'pixel_scale': None, 'single': False, 'blendheaders': True, 'allowed_memory': None}\n",
      "2022-04-25 18:02:11,829 - stpipe.Image2Pipeline.resample - INFO - Drizpars reference file: /home/cperrot/crds_cache/references/jwst/miri/jwst_miri_drizpars_0001.fits\n",
      "2022-04-25 18:02:11,954 - stpipe.Image2Pipeline.resample - INFO - Resampling science data\n",
      "2022-04-25 18:02:12,388 - stpipe.Image2Pipeline.resample - INFO - Drizzling (1024, 1032) --> (1023, 1023)\n",
      "2022-04-25 18:02:12,739 - stpipe.Image2Pipeline.resample - INFO - Resampling var_rnoise\n",
      "2022-04-25 18:02:13,164 - stpipe.Image2Pipeline.resample - INFO - Drizzling (1024, 1032) --> (1023, 1023)\n",
      "2022-04-25 18:02:13,563 - stpipe.Image2Pipeline.resample - INFO - Resampling var_poisson\n",
      "2022-04-25 18:02:14,026 - stpipe.Image2Pipeline.resample - INFO - Drizzling (1024, 1032) --> (1023, 1023)\n",
      "2022-04-25 18:02:14,468 - stpipe.Image2Pipeline.resample - INFO - Resampling var_flat\n",
      "2022-04-25 18:02:14,940 - stpipe.Image2Pipeline.resample - INFO - Drizzling (1024, 1032) --> (1023, 1023)\n",
      "2022-04-25 18:02:15,336 - stpipe.Image2Pipeline.resample - INFO - Update S_REGION to POLYGON ICRS  0.019720767 -0.017479153 0.022470997 0.013860352 359.991100826 0.016613272 359.988350596 -0.014726233\n",
      "2022-04-25 18:02:15,485 - stpipe.Image2Pipeline.resample - INFO - Saved model in /home/cperrot/Work/code/MIRISIM/corono/corono_S2/lvl2-asn_exposure1_i2d.fits\n",
      "2022-04-25 18:02:15,486 - stpipe.Image2Pipeline.resample - INFO - Step resample done\n",
      "2022-04-25 18:02:15,486 - stpipe.Image2Pipeline - INFO - Finished processing product lvl2-asn_exposure1\n",
      "2022-04-25 18:02:15,489 - stpipe.Image2Pipeline - INFO - Processing product lvl2-asn_exposure2\n",
      "2022-04-25 18:02:15,490 - stpipe.Image2Pipeline - INFO - Working on input /home/cperrot/Work/code/MIRISIM/corono/corono_S1/det_image_seq1_MIRIMAGE_F1000Wexp2_rate.fits ...\n",
      "2022-04-25 18:02:15,678 - stpipe.Image2Pipeline.assign_wcs - INFO - Step assign_wcs running with args (<ImageModel(1024, 1032) from det_image_seq1_MIRIMAGE_F1000Wexp2_rate.fits>,).\n",
      "2022-04-25 18:02:15,680 - stpipe.Image2Pipeline.assign_wcs - INFO - Step assign_wcs parameters are: {'pre_hooks': [], 'post_hooks': [], 'output_file': None, 'output_dir': None, 'output_ext': '.fits', 'output_use_model': False, 'output_use_index': True, 'save_results': False, 'skip': False, 'suffix': 'assign_wcs', 'search_output_file': True, 'input_dir': '/home/cperrot/Work/code/MIRISIM/corono/corono_S2', 'sip_approx': True, 'sip_max_pix_error': 0.25, 'sip_degree': None, 'sip_max_inv_pix_error': 0.25, 'sip_inv_degree': None, 'sip_npoints': 32, 'slit_y_low': -0.55, 'slit_y_high': 0.55}\n",
      "2022-04-25 18:02:15,867 - stpipe.Image2Pipeline.assign_wcs - INFO - Created a MIRI mir_image pipeline with references {'distortion': '/home/cperrot/crds_cache/references/jwst/miri/jwst_miri_distortion_0028.asdf', 'filteroffset': '/home/cperrot/crds_cache/references/jwst/miri/jwst_miri_filteroffset_0005.asdf', 'specwcs': None, 'regions': None, 'wavelengthrange': None, 'camera': None, 'collimator': None, 'disperser': None, 'fore': None, 'fpa': None, 'msa': None, 'ote': None, 'ifupost': None, 'ifufore': None, 'ifuslicer': None}\n",
      "2022-04-25 18:02:15,936 - stpipe.Image2Pipeline.assign_wcs - INFO - Update S_REGION to POLYGON ICRS  0.019772682 -0.017283271 0.022240226 0.013903733 359.991181136 0.016476543 359.988374124 -0.014724429\n",
      "2022-04-25 18:02:15,937 - stpipe.Image2Pipeline.assign_wcs - INFO - assign_wcs updated S_REGION to POLYGON ICRS  0.019772682 -0.017283271 0.022240226 0.013903733 359.991181136 0.016476543 359.988374124 -0.014724429\n",
      "2022-04-25 18:02:15,938 - stpipe.Image2Pipeline.assign_wcs - INFO - COMPLETED assign_wcs\n",
      "2022-04-25 18:02:15,985 - stpipe.Image2Pipeline.assign_wcs - WARNING - /home/cperrot/anaconda3/envs/mirisim/lib/python3.9/site-packages/astropy/modeling/fitting.py:777: AstropyUserWarning: The fit may be poorly conditioned\n",
      "\n",
      "  warnings.warn(\"The fit may be poorly conditioned\\n\",\n",
      "\n",
      "2022-04-25 18:02:16,084 - stpipe.Image2Pipeline.assign_wcs - INFO - Step assign_wcs done\n",
      "2022-04-25 18:02:16,212 - stpipe.Image2Pipeline.flat_field - INFO - Step flat_field running with args (<ImageModel(1024, 1032) from det_image_seq1_MIRIMAGE_F1000Wexp2_rate.fits>,).\n",
      "2022-04-25 18:02:16,214 - stpipe.Image2Pipeline.flat_field - INFO - Step flat_field parameters are: {'pre_hooks': [], 'post_hooks': [], 'output_file': None, 'output_dir': None, 'output_ext': '.fits', 'output_use_model': False, 'output_use_index': True, 'save_results': False, 'skip': False, 'suffix': 'flat_field', 'search_output_file': True, 'input_dir': '/home/cperrot/Work/code/MIRISIM/corono/corono_S2', 'save_interpolated_flat': False, 'user_supplied_flat': None, 'inverse': False}\n",
      "2022-04-25 18:02:16,336 - stpipe.Image2Pipeline.flat_field - WARNING - Keyword CDP_PARTIAL_DATA does not correspond to an existing DQ mnemonic, so will be ignored\n",
      "2022-04-25 18:02:16,338 - stpipe.Image2Pipeline.flat_field - WARNING - Keyword CDP_LOW_QUAL does not correspond to an existing DQ mnemonic, so will be ignored\n",
      "2022-04-25 18:02:16,339 - stpipe.Image2Pipeline.flat_field - WARNING - Keyword CDP_UNRELIABLE_ERROR does not correspond to an existing DQ mnemonic, so will be ignored\n",
      "2022-04-25 18:02:16,348 - stpipe.Image2Pipeline.flat_field - WARNING - Keyword DIFF_PATTERN does not correspond to an existing DQ mnemonic, so will be ignored\n",
      "2022-04-25 18:02:16,462 - stpipe.Image2Pipeline.flat_field - INFO - Step flat_field done\n",
      "2022-04-25 18:02:16,591 - stpipe.Image2Pipeline.photom - INFO - Step photom running with args (<ImageModel(1024, 1032) from det_image_seq1_MIRIMAGE_F1000Wexp2_rate.fits>,).\n",
      "2022-04-25 18:02:16,593 - stpipe.Image2Pipeline.photom - INFO - Step photom parameters are: {'pre_hooks': [], 'post_hooks': [], 'output_file': None, 'output_dir': None, 'output_ext': '.fits', 'output_use_model': False, 'output_use_index': True, 'save_results': False, 'skip': False, 'suffix': 'photom', 'search_output_file': True, 'input_dir': '/home/cperrot/Work/code/MIRISIM/corono/corono_S2', 'inverse': False, 'source_type': None}\n",
      "2022-04-25 18:02:16,622 - stpipe.Image2Pipeline.photom - INFO - Using photom reference file: /home/cperrot/crds_cache/references/jwst/miri/jwst_miri_photom_0073.fits\n",
      "2022-04-25 18:02:16,623 - stpipe.Image2Pipeline.photom - INFO - Using area reference file: /home/cperrot/crds_cache/references/jwst/miri/jwst_miri_area_0004.fits\n",
      "2022-04-25 18:02:16,697 - stpipe.Image2Pipeline.photom - INFO - Using instrument: MIRI\n",
      "2022-04-25 18:02:16,698 - stpipe.Image2Pipeline.photom - INFO -  detector: MIRIMAGE\n",
      "2022-04-25 18:02:16,699 - stpipe.Image2Pipeline.photom - INFO -  exp_type: MIR_IMAGE\n",
      "2022-04-25 18:02:16,700 - stpipe.Image2Pipeline.photom - INFO -  filter: F1000W\n",
      "2022-04-25 18:02:16,756 - stpipe.Image2Pipeline.photom - INFO - Pixel area map copied to output.\n",
      "2022-04-25 18:02:16,759 - stpipe.Image2Pipeline.photom - INFO -  subarray: FULL\n",
      "2022-04-25 18:02:16,760 - stpipe.Image2Pipeline.photom - INFO - PHOTMJSR value: 0.849523\n"
     ]
    },
    {
     "name": "stderr",
     "output_type": "stream",
     "text": [
      "2022-04-25 18:02:16,781 - stpipe.Image2Pipeline.photom - INFO - Step photom done\n",
      "2022-04-25 18:02:16,917 - stpipe.Image2Pipeline.resample - INFO - Step resample running with args (<ImageModel(1024, 1032) from det_image_seq1_MIRIMAGE_F1000Wexp2_rate.fits>,).\n",
      "2022-04-25 18:02:16,919 - stpipe.Image2Pipeline.resample - INFO - Step resample parameters are: {'pre_hooks': [], 'post_hooks': [], 'output_file': None, 'output_dir': None, 'output_ext': '.fits', 'output_use_model': False, 'output_use_index': True, 'save_results': True, 'skip': False, 'suffix': 'i2d', 'search_output_file': True, 'input_dir': '/home/cperrot/Work/code/MIRISIM/corono/corono_S2', 'pixfrac': 1.0, 'kernel': 'square', 'fillval': 'INDEF', 'weight_type': 'ivm', 'output_shape': None, 'crpix': None, 'crval': None, 'rotation': None, 'pixel_scale_ratio': 1.0, 'pixel_scale': None, 'single': False, 'blendheaders': False, 'allowed_memory': None}\n",
      "2022-04-25 18:02:16,950 - stpipe.Image2Pipeline.resample - INFO - Drizpars reference file: /home/cperrot/crds_cache/references/jwst/miri/jwst_miri_drizpars_0001.fits\n",
      "2022-04-25 18:02:17,116 - stpipe.Image2Pipeline.resample - INFO - Resampling science data\n",
      "2022-04-25 18:02:17,569 - stpipe.Image2Pipeline.resample - INFO - Drizzling (1024, 1032) --> (1023, 1023)\n",
      "2022-04-25 18:02:17,949 - stpipe.Image2Pipeline.resample - INFO - Resampling var_rnoise\n",
      "2022-04-25 18:02:18,374 - stpipe.Image2Pipeline.resample - INFO - Drizzling (1024, 1032) --> (1023, 1023)\n",
      "2022-04-25 18:02:18,768 - stpipe.Image2Pipeline.resample - INFO - Resampling var_poisson\n",
      "2022-04-25 18:02:19,248 - stpipe.Image2Pipeline.resample - INFO - Drizzling (1024, 1032) --> (1023, 1023)\n",
      "2022-04-25 18:02:19,652 - stpipe.Image2Pipeline.resample - INFO - Resampling var_flat\n",
      "2022-04-25 18:02:20,077 - stpipe.Image2Pipeline.resample - INFO - Drizzling (1024, 1032) --> (1023, 1023)\n",
      "2022-04-25 18:02:20,465 - stpipe.Image2Pipeline.resample - INFO - Update S_REGION to POLYGON ICRS  0.019720767 -0.017479153 0.022470997 0.013860352 359.991100826 0.016613272 359.988350596 -0.014726233\n",
      "2022-04-25 18:02:20,573 - stpipe.Image2Pipeline.resample - INFO - Saved model in /home/cperrot/Work/code/MIRISIM/corono/corono_S2/lvl2-asn_exposure2_i2d.fits\n",
      "2022-04-25 18:02:20,574 - stpipe.Image2Pipeline.resample - INFO - Step resample done\n",
      "2022-04-25 18:02:20,575 - stpipe.Image2Pipeline - INFO - Finished processing product lvl2-asn_exposure2\n",
      "2022-04-25 18:02:20,577 - stpipe.Image2Pipeline - INFO - ... ending calwebb_image2\n",
      "2022-04-25 18:02:20,749 - stpipe.Image2Pipeline - INFO - Saved model in /home/cperrot/Work/code/MIRISIM/corono/corono_S2/lvl2-asn_exposure1_cal.fits\n",
      "2022-04-25 18:02:20,916 - stpipe.Image2Pipeline - INFO - Saved model in /home/cperrot/Work/code/MIRISIM/corono/corono_S2/lvl2-asn_exposure2_cal.fits\n",
      "2022-04-25 18:02:20,918 - stpipe.Image2Pipeline - INFO - Step Image2Pipeline done\n"
     ]
    },
    {
     "data": {
      "text/plain": [
       "[<ImageModel(1024, 1032) from lvl2-asn_exposure1_cal.fits>,\n",
       " <ImageModel(1024, 1032) from lvl2-asn_exposure2_cal.fits>]"
      ]
     },
     "execution_count": 19,
     "metadata": {},
     "output_type": "execute_result"
    }
   ],
   "source": [
    "image2 = Image2Pipeline()\n",
    "image2.output_dir = path_stage2\n",
    "image2.save_results = True\n",
    "image2.run(path_stage2+'lvl2-asn.json')"
   ]
  },
  {
   "cell_type": "code",
   "execution_count": 19,
   "id": "49eb2bb5",
   "metadata": {},
   "outputs": [
    {
     "name": "stdout",
     "output_type": "stream",
     "text": [
      "Found 2 input files to process\n"
     ]
    }
   ],
   "source": [
    "sstring = path_stage2+'det*cal.fits'\n",
    "stage2_files = sorted(glob.glob(sstring))\n",
    "print('Found ' + str(len(stage2_files)) + ' input files to process')"
   ]
  },
  {
   "cell_type": "code",
   "execution_count": 23,
   "id": "2f690882",
   "metadata": {},
   "outputs": [],
   "source": [
    "writel3asn(stage2_files, 'lvl3-asn.json','Level3')"
   ]
  },
  {
   "cell_type": "markdown",
   "id": "de151bab",
   "metadata": {},
   "source": [
    "Run stage 3 pipeline"
   ]
  },
  {
   "cell_type": "markdown",
   "id": "9f16cffc",
   "metadata": {},
   "source": [
    "Function of stage 3 corono"
   ]
  },
  {
   "cell_type": "code",
   "execution_count": null,
   "id": "9ac6ff4d",
   "metadata": {},
   "outputs": [],
   "source": []
  },
  {
   "cell_type": "code",
   "execution_count": null,
   "id": "3901bf07",
   "metadata": {},
   "outputs": [],
   "source": []
  },
  {
   "cell_type": "code",
   "execution_count": null,
   "id": "29c0cd42",
   "metadata": {},
   "outputs": [],
   "source": []
  },
  {
   "cell_type": "code",
   "execution_count": null,
   "id": "e1f5691b",
   "metadata": {},
   "outputs": [],
   "source": []
  },
  {
   "cell_type": "code",
   "execution_count": 13,
   "id": "fa0d32dc",
   "metadata": {},
   "outputs": [],
   "source": [
    "#definition des different DIR\n",
    "output_dir_S1  = '/home/cperrot/Work/code/MIRISIM/corono/corono_S1/'\n",
    "output_dir_raw = '/home/cperrot/Work/code/MIRISIM/corono/20220328_162102_mirisim/det_images/'"
   ]
  },
  {
   "cell_type": "code",
   "execution_count": null,
   "id": "dd08b2d9",
   "metadata": {},
   "outputs": [],
   "source": [
    "#definition des param\n"
   ]
  },
  {
   "cell_type": "code",
   "execution_count": 14,
   "id": "4340097e",
   "metadata": {},
   "outputs": [
    {
     "name": "stdout",
     "output_type": "stream",
     "text": [
      "miri_detector1_param_file.asdf already exists, skipping download...\n"
     ]
    }
   ],
   "source": [
    "# Download a MIRI parameter refrence file for the pipeline\n",
    "miri_param_info = ('https://stsci.box.com/shared/static/cbsj8v6ull992n4jdkzlg5485arsmars.asdf',\n",
    "                   'miri_detector1_param_file.asdf')\n",
    "miri_param_ref_file = download_files(miri_param_info, output_dir_S1, force=False)[0]"
   ]
  },
  {
   "cell_type": "code",
   "execution_count": 24,
   "id": "e84f2abf",
   "metadata": {},
   "outputs": [
    {
     "name": "stderr",
     "output_type": "stream",
     "text": [
      "2022-04-04 16:55:05,486 - stpipe.Detector1Pipeline - INFO - Detector1Pipeline instance created.\n",
      "2022-04-04 16:55:05,487 - stpipe.Detector1Pipeline.group_scale - INFO - GroupScaleStep instance created.\n",
      "2022-04-04 16:55:05,489 - stpipe.Detector1Pipeline.dq_init - INFO - DQInitStep instance created.\n",
      "2022-04-04 16:55:05,492 - stpipe.Detector1Pipeline.saturation - INFO - SaturationStep instance created.\n",
      "2022-04-04 16:55:05,493 - stpipe.Detector1Pipeline.ipc - INFO - IPCStep instance created.\n",
      "2022-04-04 16:55:05,495 - stpipe.Detector1Pipeline.superbias - INFO - SuperBiasStep instance created.\n",
      "2022-04-04 16:55:05,496 - stpipe.Detector1Pipeline.refpix - INFO - RefPixStep instance created.\n",
      "2022-04-04 16:55:05,498 - stpipe.Detector1Pipeline.rscd - INFO - RscdStep instance created.\n",
      "2022-04-04 16:55:05,500 - stpipe.Detector1Pipeline.firstframe - INFO - FirstFrameStep instance created.\n",
      "2022-04-04 16:55:05,503 - stpipe.Detector1Pipeline.lastframe - INFO - LastFrameStep instance created.\n",
      "2022-04-04 16:55:05,505 - stpipe.Detector1Pipeline.linearity - INFO - LinearityStep instance created.\n",
      "2022-04-04 16:55:05,507 - stpipe.Detector1Pipeline.dark_current - INFO - DarkCurrentStep instance created.\n",
      "2022-04-04 16:55:05,510 - stpipe.Detector1Pipeline.reset - INFO - ResetStep instance created.\n",
      "2022-04-04 16:55:05,513 - stpipe.Detector1Pipeline.persistence - INFO - PersistenceStep instance created.\n",
      "2022-04-04 16:55:05,515 - stpipe.Detector1Pipeline.jump - INFO - JumpStep instance created.\n",
      "2022-04-04 16:55:05,518 - stpipe.Detector1Pipeline.ramp_fit - INFO - RampFitStep instance created.\n",
      "2022-04-04 16:55:05,522 - stpipe.Detector1Pipeline.gain_scale - INFO - GainScaleStep instance created.\n",
      "2022-04-04 16:55:05,641 - stpipe.Detector1Pipeline - INFO - Step Detector1Pipeline running with args ('/home/cperrot/Work/code/MIRISIM/corono/20220328_162102_mirisim/det_images/det_image_seq1_MIRIMAGE_F1000Wexp1.fits',).\n",
      "2022-04-04 16:55:05,651 - stpipe.Detector1Pipeline - INFO - Step Detector1Pipeline parameters are: {'pre_hooks': [], 'post_hooks': [], 'output_file': None, 'output_dir': '/home/cperrot/Work/code/MIRISIM/corono/corono_S1/', 'output_ext': '.fits', 'output_use_model': False, 'output_use_index': True, 'save_results': True, 'skip': False, 'suffix': None, 'search_output_file': True, 'input_dir': '', 'save_calibrated_ramp': False, 'steps': {'group_scale': {'pre_hooks': [], 'post_hooks': [], 'output_file': None, 'output_dir': None, 'output_ext': '.fits', 'output_use_model': False, 'output_use_index': True, 'save_results': False, 'skip': False, 'suffix': None, 'search_output_file': True, 'input_dir': ''}, 'dq_init': {'pre_hooks': [], 'post_hooks': [], 'output_file': None, 'output_dir': None, 'output_ext': '.fits', 'output_use_model': False, 'output_use_index': True, 'save_results': False, 'skip': False, 'suffix': None, 'search_output_file': True, 'input_dir': ''}, 'saturation': {'pre_hooks': [], 'post_hooks': [], 'output_file': None, 'output_dir': None, 'output_ext': '.fits', 'output_use_model': False, 'output_use_index': True, 'save_results': False, 'skip': False, 'suffix': None, 'search_output_file': True, 'input_dir': ''}, 'ipc': {'pre_hooks': [], 'post_hooks': [], 'output_file': None, 'output_dir': None, 'output_ext': '.fits', 'output_use_model': False, 'output_use_index': True, 'save_results': False, 'skip': True, 'suffix': None, 'search_output_file': True, 'input_dir': ''}, 'superbias': {'pre_hooks': [], 'post_hooks': [], 'output_file': None, 'output_dir': None, 'output_ext': '.fits', 'output_use_model': False, 'output_use_index': True, 'save_results': False, 'skip': False, 'suffix': None, 'search_output_file': True, 'input_dir': ''}, 'refpix': {'pre_hooks': [], 'post_hooks': [], 'output_file': None, 'output_dir': None, 'output_ext': '.fits', 'output_use_model': False, 'output_use_index': True, 'save_results': False, 'skip': False, 'suffix': None, 'search_output_file': True, 'input_dir': '', 'odd_even_columns': True, 'use_side_ref_pixels': True, 'side_smoothing_length': 11, 'side_gain': 1.0, 'odd_even_rows': True}, 'rscd': {'pre_hooks': [], 'post_hooks': [], 'output_file': None, 'output_dir': None, 'output_ext': '.fits', 'output_use_model': False, 'output_use_index': True, 'save_results': False, 'skip': False, 'suffix': None, 'search_output_file': True, 'input_dir': '', 'type': 'baseline'}, 'firstframe': {'pre_hooks': [], 'post_hooks': [], 'output_file': None, 'output_dir': None, 'output_ext': '.fits', 'output_use_model': False, 'output_use_index': True, 'save_results': False, 'skip': False, 'suffix': None, 'search_output_file': True, 'input_dir': ''}, 'lastframe': {'pre_hooks': [], 'post_hooks': [], 'output_file': None, 'output_dir': None, 'output_ext': '.fits', 'output_use_model': False, 'output_use_index': True, 'save_results': False, 'skip': False, 'suffix': None, 'search_output_file': True, 'input_dir': ''}, 'linearity': {'pre_hooks': [], 'post_hooks': [], 'output_file': None, 'output_dir': None, 'output_ext': '.fits', 'output_use_model': False, 'output_use_index': True, 'save_results': False, 'skip': False, 'suffix': None, 'search_output_file': True, 'input_dir': ''}, 'dark_current': {'pre_hooks': [], 'post_hooks': [], 'output_file': None, 'output_dir': None, 'output_ext': '.fits', 'output_use_model': False, 'output_use_index': True, 'save_results': False, 'skip': True, 'suffix': None, 'search_output_file': True, 'input_dir': '', 'dark_output': None}, 'reset': {'pre_hooks': [], 'post_hooks': [], 'output_file': None, 'output_dir': None, 'output_ext': '.fits', 'output_use_model': False, 'output_use_index': True, 'save_results': False, 'skip': False, 'suffix': None, 'search_output_file': True, 'input_dir': ''}, 'persistence': {'pre_hooks': [], 'post_hooks': [], 'output_file': None, 'output_dir': None, 'output_ext': '.fits', 'output_use_model': False, 'output_use_index': True, 'save_results': False, 'skip': False, 'suffix': None, 'search_output_file': True, 'input_dir': '', 'input_trapsfilled': '', 'flag_pers_cutoff': 40.0, 'save_persistence': False, 'save_trapsfilled': True}, 'jump': {'pre_hooks': [], 'post_hooks': [], 'output_file': None, 'output_dir': None, 'output_ext': '.fits', 'output_use_model': False, 'output_use_index': True, 'save_results': True, 'skip': False, 'suffix': None, 'search_output_file': True, 'input_dir': '', 'rejection_threshold': 3, 'three_group_rejection_threshold': 6.0, 'four_group_rejection_threshold': 5.0, 'maximum_cores': 'none', 'flag_4_neighbors': True, 'max_jump_to_flag_neighbors': 1000.0, 'min_jump_to_flag_neighbors': 10.0}, 'ramp_fit': {'pre_hooks': [], 'post_hooks': [], 'output_file': None, 'output_dir': None, 'output_ext': '.fits', 'output_use_model': False, 'output_use_index': True, 'save_results': False, 'skip': False, 'suffix': None, 'search_output_file': True, 'input_dir': '', 'int_name': '', 'save_opt': False, 'opt_name': '', 'maximum_cores': 'none'}, 'gain_scale': {'pre_hooks': [], 'post_hooks': [], 'output_file': None, 'output_dir': None, 'output_ext': '.fits', 'output_use_model': False, 'output_use_index': True, 'save_results': False, 'skip': False, 'suffix': None, 'search_output_file': True, 'input_dir': ''}}}\n",
      "2022-04-04 16:55:05,728 - stpipe.Detector1Pipeline - INFO - Prefetching reference files for dataset: 'det_image_seq1_MIRIMAGE_F1000Wexp1.fits' reftypes = ['gain', 'linearity', 'mask', 'persat', 'readnoise', 'refpix', 'reset', 'rscd', 'saturation', 'superbias', 'trapdensity', 'trappars']\n",
      "2022-04-04 16:55:05,730 - stpipe.Detector1Pipeline - INFO - Prefetch for GAIN reference file is '/home/cperrot/crds_cache/references/jwst/miri/jwst_miri_gain_0008.fits'.\n",
      "2022-04-04 16:55:05,731 - stpipe.Detector1Pipeline - INFO - Prefetch for LINEARITY reference file is '/home/cperrot/crds_cache/references/jwst/miri/jwst_miri_linearity_0024.fits'.\n",
      "2022-04-04 16:55:05,732 - stpipe.Detector1Pipeline - INFO - Prefetch for MASK reference file is '/home/cperrot/crds_cache/references/jwst/miri/jwst_miri_mask_0028.fits'.\n",
      "2022-04-04 16:55:05,732 - stpipe.Detector1Pipeline - INFO - Prefetch for PERSAT reference file is 'N/A'.\n",
      "2022-04-04 16:55:05,733 - stpipe.Detector1Pipeline - INFO - Prefetch for READNOISE reference file is '/home/cperrot/crds_cache/references/jwst/miri/jwst_miri_readnoise_0057.fits'.\n"
     ]
    },
    {
     "name": "stderr",
     "output_type": "stream",
     "text": [
      "2022-04-04 16:55:05,734 - stpipe.Detector1Pipeline - INFO - Prefetch for REFPIX reference file is 'N/A'.\n",
      "2022-04-04 16:55:05,734 - stpipe.Detector1Pipeline - INFO - Prefetch for RESET reference file is '/home/cperrot/crds_cache/references/jwst/miri/jwst_miri_reset_0047.fits'.\n",
      "2022-04-04 16:55:05,735 - stpipe.Detector1Pipeline - INFO - Prefetch for RSCD reference file is '/home/cperrot/crds_cache/references/jwst/miri/jwst_miri_rscd_0014.fits'.\n",
      "2022-04-04 16:55:05,735 - stpipe.Detector1Pipeline - INFO - Prefetch for SATURATION reference file is '/home/cperrot/crds_cache/references/jwst/miri/jwst_miri_saturation_0026.fits'.\n",
      "2022-04-04 16:55:05,736 - stpipe.Detector1Pipeline - INFO - Prefetch for SUPERBIAS reference file is 'N/A'.\n",
      "2022-04-04 16:55:05,736 - stpipe.Detector1Pipeline - INFO - Prefetch for TRAPDENSITY reference file is 'N/A'.\n",
      "2022-04-04 16:55:05,737 - stpipe.Detector1Pipeline - INFO - Prefetch for TRAPPARS reference file is 'N/A'.\n",
      "2022-04-04 16:55:05,737 - stpipe.Detector1Pipeline - INFO - Starting calwebb_detector1 ...\n",
      "2022-04-04 16:55:05,924 - stpipe.Detector1Pipeline.group_scale - INFO - Step group_scale running with args (<RampModel(3, 5, 1024, 1032) from det_image_seq1_MIRIMAGE_F1000Wexp1.fits>,).\n",
      "2022-04-04 16:55:05,925 - stpipe.Detector1Pipeline.group_scale - INFO - Step group_scale parameters are: {'pre_hooks': [], 'post_hooks': [], 'output_file': None, 'output_dir': None, 'output_ext': '.fits', 'output_use_model': False, 'output_use_index': True, 'save_results': False, 'skip': False, 'suffix': None, 'search_output_file': True, 'input_dir': '/home/cperrot/Work/code/MIRISIM/corono/20220328_162102_mirisim/det_images'}\n",
      "2022-04-04 16:55:05,992 - stpipe.Detector1Pipeline.group_scale - INFO - NFRAMES=1 is a power of 2; correction not needed\n",
      "2022-04-04 16:55:05,993 - stpipe.Detector1Pipeline.group_scale - INFO - Step will be skipped\n",
      "2022-04-04 16:55:05,997 - stpipe.Detector1Pipeline.group_scale - INFO - Step group_scale done\n",
      "2022-04-04 16:55:06,112 - stpipe.Detector1Pipeline.dq_init - INFO - Step dq_init running with args (<RampModel(3, 5, 1024, 1032) from det_image_seq1_MIRIMAGE_F1000Wexp1.fits>,).\n",
      "2022-04-04 16:55:06,114 - stpipe.Detector1Pipeline.dq_init - INFO - Step dq_init parameters are: {'pre_hooks': [], 'post_hooks': [], 'output_file': None, 'output_dir': None, 'output_ext': '.fits', 'output_use_model': False, 'output_use_index': True, 'save_results': False, 'skip': False, 'suffix': None, 'search_output_file': True, 'input_dir': '/home/cperrot/Work/code/MIRISIM/corono/20220328_162102_mirisim/det_images'}\n",
      "2022-04-04 16:55:06,137 - stpipe.Detector1Pipeline.dq_init - INFO - Using MASK reference file /home/cperrot/crds_cache/references/jwst/miri/jwst_miri_mask_0028.fits\n",
      "2022-04-04 16:55:06,374 - stpipe.Detector1Pipeline.dq_init - INFO - Step dq_init done\n",
      "2022-04-04 16:55:06,508 - stpipe.Detector1Pipeline.saturation - INFO - Step saturation running with args (<RampModel(3, 5, 1024, 1032) from det_image_seq1_MIRIMAGE_F1000Wexp1.fits>,).\n",
      "2022-04-04 16:55:06,510 - stpipe.Detector1Pipeline.saturation - INFO - Step saturation parameters are: {'pre_hooks': [], 'post_hooks': [], 'output_file': None, 'output_dir': None, 'output_ext': '.fits', 'output_use_model': False, 'output_use_index': True, 'save_results': False, 'skip': False, 'suffix': None, 'search_output_file': True, 'input_dir': '/home/cperrot/Work/code/MIRISIM/corono/20220328_162102_mirisim/det_images'}\n",
      "2022-04-04 16:55:06,547 - stpipe.Detector1Pipeline.saturation - INFO - Using SATURATION reference file /home/cperrot/crds_cache/references/jwst/miri/jwst_miri_saturation_0026.fits\n",
      "2022-04-04 16:55:06,791 - stpipe.Detector1Pipeline.saturation - INFO - Detected 397 saturated pixels\n",
      "2022-04-04 16:55:06,798 - stpipe.Detector1Pipeline.saturation - INFO - Detected 0 A/D floor pixels\n",
      "2022-04-04 16:55:06,809 - stpipe.Detector1Pipeline.saturation - INFO - Step saturation done\n",
      "2022-04-04 16:55:06,940 - stpipe.Detector1Pipeline.ipc - INFO - Step ipc running with args (<RampModel(3, 5, 1024, 1032) from det_image_seq1_MIRIMAGE_F1000Wexp1.fits>,).\n",
      "2022-04-04 16:55:06,942 - stpipe.Detector1Pipeline.ipc - INFO - Step ipc parameters are: {'pre_hooks': [], 'post_hooks': [], 'output_file': None, 'output_dir': None, 'output_ext': '.fits', 'output_use_model': False, 'output_use_index': True, 'save_results': False, 'skip': True, 'suffix': None, 'search_output_file': True, 'input_dir': '/home/cperrot/Work/code/MIRISIM/corono/20220328_162102_mirisim/det_images'}\n",
      "2022-04-04 16:55:06,943 - stpipe.Detector1Pipeline.ipc - INFO - Step skipped.\n",
      "2022-04-04 16:55:06,946 - stpipe.Detector1Pipeline.ipc - INFO - Step ipc done\n",
      "2022-04-04 16:55:07,079 - stpipe.Detector1Pipeline.firstframe - INFO - Step firstframe running with args (<RampModel(3, 5, 1024, 1032) from det_image_seq1_MIRIMAGE_F1000Wexp1.fits>,).\n",
      "2022-04-04 16:55:07,081 - stpipe.Detector1Pipeline.firstframe - INFO - Step firstframe parameters are: {'pre_hooks': [], 'post_hooks': [], 'output_file': None, 'output_dir': None, 'output_ext': '.fits', 'output_use_model': False, 'output_use_index': True, 'save_results': False, 'skip': False, 'suffix': None, 'search_output_file': True, 'input_dir': '/home/cperrot/Work/code/MIRISIM/corono/20220328_162102_mirisim/det_images'}\n",
      "2022-04-04 16:55:07,165 - stpipe.Detector1Pipeline.firstframe - INFO - Step firstframe done\n",
      "2022-04-04 16:55:07,303 - stpipe.Detector1Pipeline.lastframe - INFO - Step lastframe running with args (<RampModel(3, 5, 1024, 1032) from det_image_seq1_MIRIMAGE_F1000Wexp1.fits>,).\n",
      "2022-04-04 16:55:07,305 - stpipe.Detector1Pipeline.lastframe - INFO - Step lastframe parameters are: {'pre_hooks': [], 'post_hooks': [], 'output_file': None, 'output_dir': None, 'output_ext': '.fits', 'output_use_model': False, 'output_use_index': True, 'save_results': False, 'skip': False, 'suffix': None, 'search_output_file': True, 'input_dir': '/home/cperrot/Work/code/MIRISIM/corono/20220328_162102_mirisim/det_images'}\n",
      "2022-04-04 16:55:07,390 - stpipe.Detector1Pipeline.lastframe - INFO - Step lastframe done\n",
      "2022-04-04 16:55:07,520 - stpipe.Detector1Pipeline.reset - INFO - Step reset running with args (<RampModel(3, 5, 1024, 1032) from det_image_seq1_MIRIMAGE_F1000Wexp1.fits>,).\n",
      "2022-04-04 16:55:07,522 - stpipe.Detector1Pipeline.reset - INFO - Step reset parameters are: {'pre_hooks': [], 'post_hooks': [], 'output_file': None, 'output_dir': None, 'output_ext': '.fits', 'output_use_model': False, 'output_use_index': True, 'save_results': False, 'skip': False, 'suffix': None, 'search_output_file': True, 'input_dir': '/home/cperrot/Work/code/MIRISIM/corono/20220328_162102_mirisim/det_images'}\n",
      "2022-04-04 16:55:07,548 - stpipe.Detector1Pipeline.reset - INFO - Using RESET reference file /home/cperrot/crds_cache/references/jwst/miri/jwst_miri_reset_0047.fits\n",
      "2022-04-04 16:55:07,971 - stpipe.Detector1Pipeline.reset - INFO - Step reset done\n",
      "2022-04-04 16:55:08,140 - stpipe.Detector1Pipeline.linearity - INFO - Step linearity running with args (<RampModel(3, 5, 1024, 1032) from det_image_seq1_MIRIMAGE_F1000Wexp1.fits>,).\n",
      "2022-04-04 16:55:08,141 - stpipe.Detector1Pipeline.linearity - INFO - Step linearity parameters are: {'pre_hooks': [], 'post_hooks': [], 'output_file': None, 'output_dir': None, 'output_ext': '.fits', 'output_use_model': False, 'output_use_index': True, 'save_results': False, 'skip': False, 'suffix': None, 'search_output_file': True, 'input_dir': '/home/cperrot/Work/code/MIRISIM/corono/20220328_162102_mirisim/det_images'}\n",
      "2022-04-04 16:55:08,169 - stpipe.Detector1Pipeline.linearity - INFO - Using Linearity reference file /home/cperrot/crds_cache/references/jwst/miri/jwst_miri_linearity_0024.fits\n",
      "2022-04-04 16:55:08,492 - stpipe.Detector1Pipeline.linearity - INFO - Step linearity done\n",
      "2022-04-04 16:55:08,606 - stpipe.Detector1Pipeline.rscd - INFO - Step rscd running with args (<RampModel(3, 5, 1024, 1032) from det_image_seq1_MIRIMAGE_F1000Wexp1.fits>,).\n",
      "2022-04-04 16:55:08,608 - stpipe.Detector1Pipeline.rscd - INFO - Step rscd parameters are: {'pre_hooks': [], 'post_hooks': [], 'output_file': None, 'output_dir': None, 'output_ext': '.fits', 'output_use_model': False, 'output_use_index': True, 'save_results': False, 'skip': False, 'suffix': None, 'search_output_file': True, 'input_dir': '/home/cperrot/Work/code/MIRISIM/corono/20220328_162102_mirisim/det_images', 'type': 'baseline'}\n"
     ]
    },
    {
     "name": "stderr",
     "output_type": "stream",
     "text": [
      "2022-04-04 16:55:08,632 - stpipe.Detector1Pipeline.rscd - INFO - Using RSCD reference file /home/cperrot/crds_cache/references/jwst/miri/jwst_miri_rscd_0014.fits\n",
      "2022-04-04 16:55:08,725 - stpipe.Detector1Pipeline.rscd - WARNING - Too few groups to apply RSCD correction\n",
      "2022-04-04 16:55:08,726 - stpipe.Detector1Pipeline.rscd - WARNING - RSCD step will be skipped\n",
      "2022-04-04 16:55:08,732 - stpipe.Detector1Pipeline.rscd - INFO - Step rscd done\n",
      "2022-04-04 16:55:08,843 - stpipe.Detector1Pipeline.dark_current - INFO - Step dark_current running with args (<RampModel(3, 5, 1024, 1032) from det_image_seq1_MIRIMAGE_F1000Wexp1.fits>,).\n",
      "2022-04-04 16:55:08,845 - stpipe.Detector1Pipeline.dark_current - INFO - Step dark_current parameters are: {'pre_hooks': [], 'post_hooks': [], 'output_file': None, 'output_dir': '/home/cperrot/Work/code/MIRISIM/corono/corono_S1/', 'output_ext': '.fits', 'output_use_model': False, 'output_use_index': True, 'save_results': False, 'skip': True, 'suffix': None, 'search_output_file': True, 'input_dir': '/home/cperrot/Work/code/MIRISIM/corono/20220328_162102_mirisim/det_images', 'dark_output': None}\n",
      "2022-04-04 16:55:08,846 - stpipe.Detector1Pipeline.dark_current - INFO - Step skipped.\n",
      "2022-04-04 16:55:08,849 - stpipe.Detector1Pipeline.dark_current - INFO - Step dark_current done\n",
      "2022-04-04 16:55:08,957 - stpipe.Detector1Pipeline.refpix - INFO - Step refpix running with args (<RampModel(3, 5, 1024, 1032) from det_image_seq1_MIRIMAGE_F1000Wexp1.fits>,).\n",
      "2022-04-04 16:55:08,958 - stpipe.Detector1Pipeline.refpix - INFO - Step refpix parameters are: {'pre_hooks': [], 'post_hooks': [], 'output_file': None, 'output_dir': None, 'output_ext': '.fits', 'output_use_model': False, 'output_use_index': True, 'save_results': False, 'skip': False, 'suffix': None, 'search_output_file': True, 'input_dir': '/home/cperrot/Work/code/MIRISIM/corono/20220328_162102_mirisim/det_images', 'odd_even_columns': True, 'use_side_ref_pixels': True, 'side_smoothing_length': 11, 'side_gain': 1.0, 'odd_even_rows': True}\n",
      "2022-04-04 16:55:08,973 - stpipe.Detector1Pipeline.refpix - INFO - use_side_ref_pixels = True\n",
      "2022-04-04 16:55:08,974 - stpipe.Detector1Pipeline.refpix - INFO - odd_even_columns = True\n",
      "2022-04-04 16:55:08,975 - stpipe.Detector1Pipeline.refpix - INFO - side_smoothing_length = 11\n",
      "2022-04-04 16:55:08,975 - stpipe.Detector1Pipeline.refpix - INFO - side_gain = 1.0\n",
      "2022-04-04 16:55:08,976 - stpipe.Detector1Pipeline.refpix - INFO - odd_even_rows = True\n",
      "2022-04-04 16:55:09,031 - stpipe.Detector1Pipeline.refpix - INFO - Subtracting initial read from each integration\n",
      "2022-04-04 16:55:09,190 - stpipe.Detector1Pipeline.refpix - INFO - Adding initial read back in\n",
      "2022-04-04 16:55:09,243 - stpipe.Detector1Pipeline.refpix - INFO - Step refpix done\n",
      "2022-04-04 16:55:09,384 - stpipe.Detector1Pipeline.jump - INFO - Step jump running with args (<RampModel(3, 5, 1024, 1032) from det_image_seq1_MIRIMAGE_F1000Wexp1.fits>,).\n",
      "2022-04-04 16:55:09,386 - stpipe.Detector1Pipeline.jump - INFO - Step jump parameters are: {'pre_hooks': [], 'post_hooks': [], 'output_file': None, 'output_dir': None, 'output_ext': '.fits', 'output_use_model': False, 'output_use_index': True, 'save_results': True, 'skip': False, 'suffix': None, 'search_output_file': True, 'input_dir': '/home/cperrot/Work/code/MIRISIM/corono/20220328_162102_mirisim/det_images', 'rejection_threshold': 3, 'three_group_rejection_threshold': 6.0, 'four_group_rejection_threshold': 5.0, 'maximum_cores': 'none', 'flag_4_neighbors': True, 'max_jump_to_flag_neighbors': 1000.0, 'min_jump_to_flag_neighbors': 10.0}\n",
      "2022-04-04 16:55:09,398 - stpipe.Detector1Pipeline.jump - INFO - CR rejection threshold = 3 sigma\n",
      "2022-04-04 16:55:09,413 - stpipe.Detector1Pipeline.jump - INFO - Using GAIN reference file: /home/cperrot/crds_cache/references/jwst/miri/jwst_miri_gain_0008.fits\n",
      "2022-04-04 16:55:09,459 - stpipe.Detector1Pipeline.jump - INFO - Using READNOISE reference file: /home/cperrot/crds_cache/references/jwst/miri/jwst_miri_readnoise_0057.fits\n",
      "2022-04-04 16:55:09,600 - stpipe.Detector1Pipeline.jump - INFO - Executing two-point difference method\n",
      "2022-04-04 16:55:09,621 - stpipe.Detector1Pipeline.jump - INFO - Working on integration 1:\n",
      "2022-04-04 16:55:09,988 - stpipe.Detector1Pipeline.jump - WARNING - /home/cperrot/anaconda3/envs/mirisim/lib/python3.9/site-packages/stcal/jump/twopoint_difference.py:116: RuntimeWarning: All-NaN slice encountered\n",
      "  max_ratio = np.nanmax(ratio, axis=0)\n",
      "\n",
      "2022-04-04 16:55:10,012 - stpipe.Detector1Pipeline.jump - INFO - From highest outlier, two-point found 0 pixels with at least one CR from five groups.\n",
      "2022-04-04 16:55:10,014 - stpipe.Detector1Pipeline.jump - INFO - From highest outlier, two-point found 0 pixels with at least one CR from four groups.\n",
      "2022-04-04 16:55:10,014 - stpipe.Detector1Pipeline.jump - INFO - From highest outlier, two-point found 1500 pixels with at least one CR from three groups.\n",
      "2022-04-04 16:55:10,081 - stpipe.Detector1Pipeline.jump - INFO - Working on integration 2:\n",
      "2022-04-04 16:55:10,542 - stpipe.Detector1Pipeline.jump - INFO - From highest outlier, two-point found 0 pixels with at least one CR from five groups.\n",
      "2022-04-04 16:55:10,543 - stpipe.Detector1Pipeline.jump - INFO - From highest outlier, two-point found 0 pixels with at least one CR from four groups.\n",
      "2022-04-04 16:55:10,544 - stpipe.Detector1Pipeline.jump - INFO - From highest outlier, two-point found 1880 pixels with at least one CR from three groups.\n",
      "2022-04-04 16:55:10,646 - stpipe.Detector1Pipeline.jump - INFO - Working on integration 3:\n",
      "2022-04-04 16:55:11,041 - stpipe.Detector1Pipeline.jump - INFO - From highest outlier, two-point found 0 pixels with at least one CR from five groups.\n",
      "2022-04-04 16:55:11,042 - stpipe.Detector1Pipeline.jump - INFO - From highest outlier, two-point found 0 pixels with at least one CR from four groups.\n",
      "2022-04-04 16:55:11,042 - stpipe.Detector1Pipeline.jump - INFO - From highest outlier, two-point found 1823 pixels with at least one CR from three groups.\n",
      "2022-04-04 16:55:11,120 - stpipe.Detector1Pipeline.jump - INFO - Total elapsed time = 1.51796 sec\n",
      "2022-04-04 16:55:11,123 - stpipe.Detector1Pipeline.jump - INFO - The execution time in seconds: 1.724833\n",
      "2022-04-04 16:55:11,264 - stpipe.Detector1Pipeline.jump - INFO - Saved model in /home/cperrot/Work/code/MIRISIM/corono/corono_S1/det_image_seq1_MIRIMAGE_F1000Wexp1_jump.fits\n",
      "2022-04-04 16:55:11,265 - stpipe.Detector1Pipeline.jump - INFO - Step jump done\n",
      "2022-04-04 16:55:11,382 - stpipe.Detector1Pipeline.ramp_fit - INFO - Step ramp_fit running with args (<RampModel(3, 5, 1024, 1032) from det_image_seq1_MIRIMAGE_F1000Wexp1_jump.fits>,).\n",
      "2022-04-04 16:55:11,384 - stpipe.Detector1Pipeline.ramp_fit - INFO - Step ramp_fit parameters are: {'pre_hooks': [], 'post_hooks': [], 'output_file': None, 'output_dir': '/home/cperrot/Work/code/MIRISIM/corono/corono_S1/', 'output_ext': '.fits', 'output_use_model': False, 'output_use_index': True, 'save_results': False, 'skip': False, 'suffix': None, 'search_output_file': True, 'input_dir': '/home/cperrot/Work/code/MIRISIM/corono/20220328_162102_mirisim/det_images', 'int_name': '', 'save_opt': False, 'opt_name': '', 'maximum_cores': 'none'}\n",
      "2022-04-04 16:55:11,419 - stpipe.Detector1Pipeline.ramp_fit - INFO - Using READNOISE reference file: /home/cperrot/crds_cache/references/jwst/miri/jwst_miri_readnoise_0057.fits\n",
      "2022-04-04 16:55:11,420 - stpipe.Detector1Pipeline.ramp_fit - INFO - Using GAIN reference file: /home/cperrot/crds_cache/references/jwst/miri/jwst_miri_gain_0008.fits\n",
      "2022-04-04 16:55:11,467 - stpipe.Detector1Pipeline.ramp_fit - INFO - Using algorithm = ols\n",
      "2022-04-04 16:55:11,468 - stpipe.Detector1Pipeline.ramp_fit - INFO - Using weighting = optimal\n",
      "2022-04-04 16:55:11,484 - stpipe.Detector1Pipeline.ramp_fit - INFO - Number of leading groups that are flagged as DO_NOT_USE: 1\n",
      "2022-04-04 16:55:11,486 - stpipe.Detector1Pipeline.ramp_fit - INFO - MIRI dataset has all pixels in the final group flagged as DO_NOT_USE.\n",
      "2022-04-04 16:55:14,869 - stpipe.Detector1Pipeline.ramp_fit - INFO - Number of groups per integration: 3\n",
      "2022-04-04 16:55:14,870 - stpipe.Detector1Pipeline.ramp_fit - INFO - Number of integrations: 3\n"
     ]
    },
    {
     "name": "stderr",
     "output_type": "stream",
     "text": [
      "2022-04-04 16:55:14,953 - stpipe.Detector1Pipeline.ramp_fit - INFO - Step ramp_fit done\n",
      "2022-04-04 16:55:15,061 - stpipe.Detector1Pipeline.gain_scale - INFO - Step gain_scale running with args (<ImageModel(1024, 1032) from det_image_seq1_MIRIMAGE_F1000Wexp1_jump.fits>,).\n",
      "2022-04-04 16:55:15,063 - stpipe.Detector1Pipeline.gain_scale - INFO - Step gain_scale parameters are: {'pre_hooks': [], 'post_hooks': [], 'output_file': None, 'output_dir': None, 'output_ext': '.fits', 'output_use_model': False, 'output_use_index': True, 'save_results': False, 'skip': False, 'suffix': 'gain_scale', 'search_output_file': True, 'input_dir': '/home/cperrot/Work/code/MIRISIM/corono/20220328_162102_mirisim/det_images'}\n",
      "2022-04-04 16:55:15,109 - stpipe.Detector1Pipeline.gain_scale - INFO - GAINFACT not found in gain reference file\n",
      "2022-04-04 16:55:15,110 - stpipe.Detector1Pipeline.gain_scale - INFO - Step will be skipped\n",
      "2022-04-04 16:55:15,115 - stpipe.Detector1Pipeline.gain_scale - INFO - Step gain_scale done\n",
      "2022-04-04 16:55:15,225 - stpipe.Detector1Pipeline.gain_scale - INFO - Step gain_scale running with args (<CubeModel(3, 1024, 1032) from det_image_seq1_MIRIMAGE_F1000Wexp1_jump.fits>,).\n",
      "2022-04-04 16:55:15,226 - stpipe.Detector1Pipeline.gain_scale - INFO - Step gain_scale parameters are: {'pre_hooks': [], 'post_hooks': [], 'output_file': None, 'output_dir': None, 'output_ext': '.fits', 'output_use_model': False, 'output_use_index': True, 'save_results': False, 'skip': False, 'suffix': 'gain_scaleints', 'search_output_file': True, 'input_dir': '/home/cperrot/Work/code/MIRISIM/corono/20220328_162102_mirisim/det_images'}\n",
      "2022-04-04 16:55:15,269 - stpipe.Detector1Pipeline.gain_scale - INFO - GAINFACT not found in gain reference file\n",
      "2022-04-04 16:55:15,270 - stpipe.Detector1Pipeline.gain_scale - INFO - Step will be skipped\n",
      "2022-04-04 16:55:15,276 - stpipe.Detector1Pipeline.gain_scale - INFO - Step gain_scale done\n",
      "2022-04-04 16:55:15,401 - stpipe.Detector1Pipeline - INFO - Saved model in /home/cperrot/Work/code/MIRISIM/corono/corono_S1/det_image_seq1_MIRIMAGE_F1000Wexp1_rateints.fits\n",
      "2022-04-04 16:55:15,403 - stpipe.Detector1Pipeline - INFO - ... ending calwebb_detector1\n",
      "2022-04-04 16:55:15,476 - stpipe.Detector1Pipeline - INFO - Saved model in /home/cperrot/Work/code/MIRISIM/corono/corono_S1/det_image_seq1_MIRIMAGE_F1000Wexp1_rate.fits\n",
      "2022-04-04 16:55:15,477 - stpipe.Detector1Pipeline - INFO - Step Detector1Pipeline done\n",
      "2022-04-04 16:55:15,728 - stpipe.Detector1Pipeline - INFO - Detector1Pipeline instance created.\n",
      "2022-04-04 16:55:15,730 - stpipe.Detector1Pipeline.group_scale - INFO - GroupScaleStep instance created.\n",
      "2022-04-04 16:55:15,732 - stpipe.Detector1Pipeline.dq_init - INFO - DQInitStep instance created.\n",
      "2022-04-04 16:55:15,734 - stpipe.Detector1Pipeline.saturation - INFO - SaturationStep instance created.\n",
      "2022-04-04 16:55:15,736 - stpipe.Detector1Pipeline.ipc - INFO - IPCStep instance created.\n",
      "2022-04-04 16:55:15,738 - stpipe.Detector1Pipeline.superbias - INFO - SuperBiasStep instance created.\n",
      "2022-04-04 16:55:15,740 - stpipe.Detector1Pipeline.refpix - INFO - RefPixStep instance created.\n",
      "2022-04-04 16:55:15,743 - stpipe.Detector1Pipeline.rscd - INFO - RscdStep instance created.\n",
      "2022-04-04 16:55:15,745 - stpipe.Detector1Pipeline.firstframe - INFO - FirstFrameStep instance created.\n",
      "2022-04-04 16:55:15,747 - stpipe.Detector1Pipeline.lastframe - INFO - LastFrameStep instance created.\n",
      "2022-04-04 16:55:15,749 - stpipe.Detector1Pipeline.linearity - INFO - LinearityStep instance created.\n",
      "2022-04-04 16:55:15,751 - stpipe.Detector1Pipeline.dark_current - INFO - DarkCurrentStep instance created.\n",
      "2022-04-04 16:55:15,753 - stpipe.Detector1Pipeline.reset - INFO - ResetStep instance created.\n",
      "2022-04-04 16:55:15,754 - stpipe.Detector1Pipeline.persistence - INFO - PersistenceStep instance created.\n",
      "2022-04-04 16:55:15,756 - stpipe.Detector1Pipeline.jump - INFO - JumpStep instance created.\n",
      "2022-04-04 16:55:15,758 - stpipe.Detector1Pipeline.ramp_fit - INFO - RampFitStep instance created.\n",
      "2022-04-04 16:55:15,760 - stpipe.Detector1Pipeline.gain_scale - INFO - GainScaleStep instance created.\n",
      "2022-04-04 16:55:15,869 - stpipe - WARNING - /home/cperrot/anaconda3/envs/mirisim/lib/python3.9/site-packages/stpipe/step.py:379: ResourceWarning: unclosed file <_io.FileIO name='/home/cperrot/Work/code/MIRISIM/corono/20220328_162102_mirisim/det_images/det_image_seq1_MIRIMAGE_F1000Wexp2.fits' mode='rb' closefd=True>\n",
      "  gc.collect()\n",
      "\n",
      "2022-04-04 16:55:15,873 - stpipe.Detector1Pipeline - INFO - Step Detector1Pipeline running with args ('/home/cperrot/Work/code/MIRISIM/corono/20220328_162102_mirisim/det_images/det_image_seq1_MIRIMAGE_F1000Wexp2.fits',).\n",
      "2022-04-04 16:55:15,883 - stpipe.Detector1Pipeline - INFO - Step Detector1Pipeline parameters are: {'pre_hooks': [], 'post_hooks': [], 'output_file': None, 'output_dir': '/home/cperrot/Work/code/MIRISIM/corono/corono_S1/', 'output_ext': '.fits', 'output_use_model': False, 'output_use_index': True, 'save_results': True, 'skip': False, 'suffix': None, 'search_output_file': True, 'input_dir': '', 'save_calibrated_ramp': False, 'steps': {'group_scale': {'pre_hooks': [], 'post_hooks': [], 'output_file': None, 'output_dir': None, 'output_ext': '.fits', 'output_use_model': False, 'output_use_index': True, 'save_results': False, 'skip': False, 'suffix': None, 'search_output_file': True, 'input_dir': ''}, 'dq_init': {'pre_hooks': [], 'post_hooks': [], 'output_file': None, 'output_dir': None, 'output_ext': '.fits', 'output_use_model': False, 'output_use_index': True, 'save_results': False, 'skip': False, 'suffix': None, 'search_output_file': True, 'input_dir': ''}, 'saturation': {'pre_hooks': [], 'post_hooks': [], 'output_file': None, 'output_dir': None, 'output_ext': '.fits', 'output_use_model': False, 'output_use_index': True, 'save_results': False, 'skip': False, 'suffix': None, 'search_output_file': True, 'input_dir': ''}, 'ipc': {'pre_hooks': [], 'post_hooks': [], 'output_file': None, 'output_dir': None, 'output_ext': '.fits', 'output_use_model': False, 'output_use_index': True, 'save_results': False, 'skip': True, 'suffix': None, 'search_output_file': True, 'input_dir': ''}, 'superbias': {'pre_hooks': [], 'post_hooks': [], 'output_file': None, 'output_dir': None, 'output_ext': '.fits', 'output_use_model': False, 'output_use_index': True, 'save_results': False, 'skip': False, 'suffix': None, 'search_output_file': True, 'input_dir': ''}, 'refpix': {'pre_hooks': [], 'post_hooks': [], 'output_file': None, 'output_dir': None, 'output_ext': '.fits', 'output_use_model': False, 'output_use_index': True, 'save_results': False, 'skip': False, 'suffix': None, 'search_output_file': True, 'input_dir': '', 'odd_even_columns': True, 'use_side_ref_pixels': True, 'side_smoothing_length': 11, 'side_gain': 1.0, 'odd_even_rows': True}, 'rscd': {'pre_hooks': [], 'post_hooks': [], 'output_file': None, 'output_dir': None, 'output_ext': '.fits', 'output_use_model': False, 'output_use_index': True, 'save_results': False, 'skip': False, 'suffix': None, 'search_output_file': True, 'input_dir': '', 'type': 'baseline'}, 'firstframe': {'pre_hooks': [], 'post_hooks': [], 'output_file': None, 'output_dir': None, 'output_ext': '.fits', 'output_use_model': False, 'output_use_index': True, 'save_results': False, 'skip': False, 'suffix': None, 'search_output_file': True, 'input_dir': ''}, 'lastframe': {'pre_hooks': [], 'post_hooks': [], 'output_file': None, 'output_dir': None, 'output_ext': '.fits', 'output_use_model': False, 'output_use_index': True, 'save_results': False, 'skip': False, 'suffix': None, 'search_output_file': True, 'input_dir': ''}, 'linearity': {'pre_hooks': [], 'post_hooks': [], 'output_file': None, 'output_dir': None, 'output_ext': '.fits', 'output_use_model': False, 'output_use_index': True, 'save_results': False, 'skip': False, 'suffix': None, 'search_output_file': True, 'input_dir': ''}, 'dark_current': {'pre_hooks': [], 'post_hooks': [], 'output_file': None, 'output_dir': None, 'output_ext': '.fits', 'output_use_model': False, 'output_use_index': True, 'save_results': False, 'skip': True, 'suffix': None, 'search_output_file': True, 'input_dir': '', 'dark_output': None}, 'reset': {'pre_hooks': [], 'post_hooks': [], 'output_file': None, 'output_dir': None, 'output_ext': '.fits', 'output_use_model': False, 'output_use_index': True, 'save_results': False, 'skip': False, 'suffix': None, 'search_output_file': True, 'input_dir': ''}, 'persistence': {'pre_hooks': [], 'post_hooks': [], 'output_file': None, 'output_dir': None, 'output_ext': '.fits', 'output_use_model': False, 'output_use_index': True, 'save_results': False, 'skip': False, 'suffix': None, 'search_output_file': True, 'input_dir': '', 'input_trapsfilled': '', 'flag_pers_cutoff': 40.0, 'save_persistence': False, 'save_trapsfilled': True}, 'jump': {'pre_hooks': [], 'post_hooks': [], 'output_file': None, 'output_dir': None, 'output_ext': '.fits', 'output_use_model': False, 'output_use_index': True, 'save_results': True, 'skip': False, 'suffix': None, 'search_output_file': True, 'input_dir': '', 'rejection_threshold': 3, 'three_group_rejection_threshold': 6.0, 'four_group_rejection_threshold': 5.0, 'maximum_cores': 'none', 'flag_4_neighbors': True, 'max_jump_to_flag_neighbors': 1000.0, 'min_jump_to_flag_neighbors': 10.0}, 'ramp_fit': {'pre_hooks': [], 'post_hooks': [], 'output_file': None, 'output_dir': None, 'output_ext': '.fits', 'output_use_model': False, 'output_use_index': True, 'save_results': False, 'skip': False, 'suffix': None, 'search_output_file': True, 'input_dir': '', 'int_name': '', 'save_opt': False, 'opt_name': '', 'maximum_cores': 'none'}, 'gain_scale': {'pre_hooks': [], 'post_hooks': [], 'output_file': None, 'output_dir': None, 'output_ext': '.fits', 'output_use_model': False, 'output_use_index': True, 'save_results': False, 'skip': False, 'suffix': None, 'search_output_file': True, 'input_dir': ''}}}\n"
     ]
    },
    {
     "name": "stderr",
     "output_type": "stream",
     "text": [
      "2022-04-04 16:55:15,939 - stpipe.Detector1Pipeline - INFO - Prefetching reference files for dataset: 'det_image_seq1_MIRIMAGE_F1000Wexp2.fits' reftypes = ['gain', 'linearity', 'mask', 'persat', 'readnoise', 'refpix', 'reset', 'rscd', 'saturation', 'superbias', 'trapdensity', 'trappars']\n",
      "2022-04-04 16:55:15,944 - stpipe.Detector1Pipeline - INFO - Prefetch for GAIN reference file is '/home/cperrot/crds_cache/references/jwst/miri/jwst_miri_gain_0008.fits'.\n",
      "2022-04-04 16:55:15,945 - stpipe.Detector1Pipeline - INFO - Prefetch for LINEARITY reference file is '/home/cperrot/crds_cache/references/jwst/miri/jwst_miri_linearity_0024.fits'.\n",
      "2022-04-04 16:55:15,946 - stpipe.Detector1Pipeline - INFO - Prefetch for MASK reference file is '/home/cperrot/crds_cache/references/jwst/miri/jwst_miri_mask_0028.fits'.\n",
      "2022-04-04 16:55:15,946 - stpipe.Detector1Pipeline - INFO - Prefetch for PERSAT reference file is 'N/A'.\n",
      "2022-04-04 16:55:15,947 - stpipe.Detector1Pipeline - INFO - Prefetch for READNOISE reference file is '/home/cperrot/crds_cache/references/jwst/miri/jwst_miri_readnoise_0057.fits'.\n",
      "2022-04-04 16:55:15,947 - stpipe.Detector1Pipeline - INFO - Prefetch for REFPIX reference file is 'N/A'.\n",
      "2022-04-04 16:55:15,948 - stpipe.Detector1Pipeline - INFO - Prefetch for RESET reference file is '/home/cperrot/crds_cache/references/jwst/miri/jwst_miri_reset_0047.fits'.\n",
      "2022-04-04 16:55:15,949 - stpipe.Detector1Pipeline - INFO - Prefetch for RSCD reference file is '/home/cperrot/crds_cache/references/jwst/miri/jwst_miri_rscd_0014.fits'.\n",
      "2022-04-04 16:55:15,950 - stpipe.Detector1Pipeline - INFO - Prefetch for SATURATION reference file is '/home/cperrot/crds_cache/references/jwst/miri/jwst_miri_saturation_0026.fits'.\n",
      "2022-04-04 16:55:15,950 - stpipe.Detector1Pipeline - INFO - Prefetch for SUPERBIAS reference file is 'N/A'.\n",
      "2022-04-04 16:55:15,951 - stpipe.Detector1Pipeline - INFO - Prefetch for TRAPDENSITY reference file is 'N/A'.\n",
      "2022-04-04 16:55:15,951 - stpipe.Detector1Pipeline - INFO - Prefetch for TRAPPARS reference file is 'N/A'.\n",
      "2022-04-04 16:55:15,952 - stpipe.Detector1Pipeline - INFO - Starting calwebb_detector1 ...\n",
      "2022-04-04 16:55:16,110 - stpipe.Detector1Pipeline.group_scale - INFO - Step group_scale running with args (<RampModel(3, 5, 1024, 1032) from det_image_seq1_MIRIMAGE_F1000Wexp2.fits>,).\n",
      "2022-04-04 16:55:16,112 - stpipe.Detector1Pipeline.group_scale - INFO - Step group_scale parameters are: {'pre_hooks': [], 'post_hooks': [], 'output_file': None, 'output_dir': None, 'output_ext': '.fits', 'output_use_model': False, 'output_use_index': True, 'save_results': False, 'skip': False, 'suffix': None, 'search_output_file': True, 'input_dir': '/home/cperrot/Work/code/MIRISIM/corono/20220328_162102_mirisim/det_images'}\n",
      "2022-04-04 16:55:16,162 - stpipe.Detector1Pipeline.group_scale - INFO - NFRAMES=1 is a power of 2; correction not needed\n",
      "2022-04-04 16:55:16,163 - stpipe.Detector1Pipeline.group_scale - INFO - Step will be skipped\n",
      "2022-04-04 16:55:16,166 - stpipe.Detector1Pipeline.group_scale - INFO - Step group_scale done\n",
      "2022-04-04 16:55:16,308 - stpipe.Detector1Pipeline.dq_init - INFO - Step dq_init running with args (<RampModel(3, 5, 1024, 1032) from det_image_seq1_MIRIMAGE_F1000Wexp2.fits>,).\n",
      "2022-04-04 16:55:16,310 - stpipe.Detector1Pipeline.dq_init - INFO - Step dq_init parameters are: {'pre_hooks': [], 'post_hooks': [], 'output_file': None, 'output_dir': None, 'output_ext': '.fits', 'output_use_model': False, 'output_use_index': True, 'save_results': False, 'skip': False, 'suffix': None, 'search_output_file': True, 'input_dir': '/home/cperrot/Work/code/MIRISIM/corono/20220328_162102_mirisim/det_images'}\n",
      "2022-04-04 16:55:16,334 - stpipe.Detector1Pipeline.dq_init - INFO - Using MASK reference file /home/cperrot/crds_cache/references/jwst/miri/jwst_miri_mask_0028.fits\n",
      "2022-04-04 16:55:16,508 - stpipe.Detector1Pipeline.dq_init - INFO - Step dq_init done\n",
      "2022-04-04 16:55:16,619 - stpipe.Detector1Pipeline.saturation - INFO - Step saturation running with args (<RampModel(3, 5, 1024, 1032) from det_image_seq1_MIRIMAGE_F1000Wexp2.fits>,).\n",
      "2022-04-04 16:55:16,621 - stpipe.Detector1Pipeline.saturation - INFO - Step saturation parameters are: {'pre_hooks': [], 'post_hooks': [], 'output_file': None, 'output_dir': None, 'output_ext': '.fits', 'output_use_model': False, 'output_use_index': True, 'save_results': False, 'skip': False, 'suffix': None, 'search_output_file': True, 'input_dir': '/home/cperrot/Work/code/MIRISIM/corono/20220328_162102_mirisim/det_images'}\n",
      "2022-04-04 16:55:16,646 - stpipe.Detector1Pipeline.saturation - INFO - Using SATURATION reference file /home/cperrot/crds_cache/references/jwst/miri/jwst_miri_saturation_0026.fits\n",
      "2022-04-04 16:55:16,802 - stpipe.Detector1Pipeline.saturation - INFO - Detected 396 saturated pixels\n",
      "2022-04-04 16:55:16,810 - stpipe.Detector1Pipeline.saturation - INFO - Detected 0 A/D floor pixels\n",
      "2022-04-04 16:55:16,818 - stpipe.Detector1Pipeline.saturation - INFO - Step saturation done\n",
      "2022-04-04 16:55:16,950 - stpipe.Detector1Pipeline.ipc - INFO - Step ipc running with args (<RampModel(3, 5, 1024, 1032) from det_image_seq1_MIRIMAGE_F1000Wexp2.fits>,).\n",
      "2022-04-04 16:55:16,952 - stpipe.Detector1Pipeline.ipc - INFO - Step ipc parameters are: {'pre_hooks': [], 'post_hooks': [], 'output_file': None, 'output_dir': None, 'output_ext': '.fits', 'output_use_model': False, 'output_use_index': True, 'save_results': False, 'skip': True, 'suffix': None, 'search_output_file': True, 'input_dir': '/home/cperrot/Work/code/MIRISIM/corono/20220328_162102_mirisim/det_images'}\n",
      "2022-04-04 16:55:16,953 - stpipe.Detector1Pipeline.ipc - INFO - Step skipped.\n",
      "2022-04-04 16:55:16,956 - stpipe.Detector1Pipeline.ipc - INFO - Step ipc done\n",
      "2022-04-04 16:55:17,069 - stpipe.Detector1Pipeline.firstframe - INFO - Step firstframe running with args (<RampModel(3, 5, 1024, 1032) from det_image_seq1_MIRIMAGE_F1000Wexp2.fits>,).\n",
      "2022-04-04 16:55:17,070 - stpipe.Detector1Pipeline.firstframe - INFO - Step firstframe parameters are: {'pre_hooks': [], 'post_hooks': [], 'output_file': None, 'output_dir': None, 'output_ext': '.fits', 'output_use_model': False, 'output_use_index': True, 'save_results': False, 'skip': False, 'suffix': None, 'search_output_file': True, 'input_dir': '/home/cperrot/Work/code/MIRISIM/corono/20220328_162102_mirisim/det_images'}\n",
      "2022-04-04 16:55:17,140 - stpipe.Detector1Pipeline.firstframe - INFO - Step firstframe done\n",
      "2022-04-04 16:55:17,254 - stpipe.Detector1Pipeline.lastframe - INFO - Step lastframe running with args (<RampModel(3, 5, 1024, 1032) from det_image_seq1_MIRIMAGE_F1000Wexp2.fits>,).\n",
      "2022-04-04 16:55:17,255 - stpipe.Detector1Pipeline.lastframe - INFO - Step lastframe parameters are: {'pre_hooks': [], 'post_hooks': [], 'output_file': None, 'output_dir': None, 'output_ext': '.fits', 'output_use_model': False, 'output_use_index': True, 'save_results': False, 'skip': False, 'suffix': None, 'search_output_file': True, 'input_dir': '/home/cperrot/Work/code/MIRISIM/corono/20220328_162102_mirisim/det_images'}\n",
      "2022-04-04 16:55:17,306 - stpipe.Detector1Pipeline.lastframe - INFO - Step lastframe done\n",
      "2022-04-04 16:55:17,417 - stpipe.Detector1Pipeline.reset - INFO - Step reset running with args (<RampModel(3, 5, 1024, 1032) from det_image_seq1_MIRIMAGE_F1000Wexp2.fits>,).\n",
      "2022-04-04 16:55:17,419 - stpipe.Detector1Pipeline.reset - INFO - Step reset parameters are: {'pre_hooks': [], 'post_hooks': [], 'output_file': None, 'output_dir': None, 'output_ext': '.fits', 'output_use_model': False, 'output_use_index': True, 'save_results': False, 'skip': False, 'suffix': None, 'search_output_file': True, 'input_dir': '/home/cperrot/Work/code/MIRISIM/corono/20220328_162102_mirisim/det_images'}\n",
      "2022-04-04 16:55:17,439 - stpipe.Detector1Pipeline.reset - INFO - Using RESET reference file /home/cperrot/crds_cache/references/jwst/miri/jwst_miri_reset_0047.fits\n",
      "2022-04-04 16:55:17,636 - stpipe.Detector1Pipeline.reset - INFO - Step reset done\n",
      "2022-04-04 16:55:17,748 - stpipe.Detector1Pipeline.linearity - INFO - Step linearity running with args (<RampModel(3, 5, 1024, 1032) from det_image_seq1_MIRIMAGE_F1000Wexp2.fits>,).\n",
      "2022-04-04 16:55:17,749 - stpipe.Detector1Pipeline.linearity - INFO - Step linearity parameters are: {'pre_hooks': [], 'post_hooks': [], 'output_file': None, 'output_dir': None, 'output_ext': '.fits', 'output_use_model': False, 'output_use_index': True, 'save_results': False, 'skip': False, 'suffix': None, 'search_output_file': True, 'input_dir': '/home/cperrot/Work/code/MIRISIM/corono/20220328_162102_mirisim/det_images'}\n"
     ]
    },
    {
     "name": "stderr",
     "output_type": "stream",
     "text": [
      "2022-04-04 16:55:17,773 - stpipe.Detector1Pipeline.linearity - INFO - Using Linearity reference file /home/cperrot/crds_cache/references/jwst/miri/jwst_miri_linearity_0024.fits\n",
      "2022-04-04 16:55:18,056 - stpipe.Detector1Pipeline.linearity - INFO - Step linearity done\n",
      "2022-04-04 16:55:18,164 - stpipe.Detector1Pipeline.rscd - INFO - Step rscd running with args (<RampModel(3, 5, 1024, 1032) from det_image_seq1_MIRIMAGE_F1000Wexp2.fits>,).\n",
      "2022-04-04 16:55:18,166 - stpipe.Detector1Pipeline.rscd - INFO - Step rscd parameters are: {'pre_hooks': [], 'post_hooks': [], 'output_file': None, 'output_dir': None, 'output_ext': '.fits', 'output_use_model': False, 'output_use_index': True, 'save_results': False, 'skip': False, 'suffix': None, 'search_output_file': True, 'input_dir': '/home/cperrot/Work/code/MIRISIM/corono/20220328_162102_mirisim/det_images', 'type': 'baseline'}\n",
      "2022-04-04 16:55:18,189 - stpipe.Detector1Pipeline.rscd - INFO - Using RSCD reference file /home/cperrot/crds_cache/references/jwst/miri/jwst_miri_rscd_0014.fits\n",
      "2022-04-04 16:55:18,281 - stpipe.Detector1Pipeline.rscd - WARNING - Too few groups to apply RSCD correction\n",
      "2022-04-04 16:55:18,282 - stpipe.Detector1Pipeline.rscd - WARNING - RSCD step will be skipped\n",
      "2022-04-04 16:55:18,288 - stpipe.Detector1Pipeline.rscd - INFO - Step rscd done\n",
      "2022-04-04 16:55:18,403 - stpipe.Detector1Pipeline.dark_current - INFO - Step dark_current running with args (<RampModel(3, 5, 1024, 1032) from det_image_seq1_MIRIMAGE_F1000Wexp2.fits>,).\n",
      "2022-04-04 16:55:18,404 - stpipe.Detector1Pipeline.dark_current - INFO - Step dark_current parameters are: {'pre_hooks': [], 'post_hooks': [], 'output_file': None, 'output_dir': '/home/cperrot/Work/code/MIRISIM/corono/corono_S1/', 'output_ext': '.fits', 'output_use_model': False, 'output_use_index': True, 'save_results': False, 'skip': True, 'suffix': None, 'search_output_file': True, 'input_dir': '/home/cperrot/Work/code/MIRISIM/corono/20220328_162102_mirisim/det_images', 'dark_output': None}\n",
      "2022-04-04 16:55:18,405 - stpipe.Detector1Pipeline.dark_current - INFO - Step skipped.\n",
      "2022-04-04 16:55:18,408 - stpipe.Detector1Pipeline.dark_current - INFO - Step dark_current done\n",
      "2022-04-04 16:55:18,517 - stpipe.Detector1Pipeline.refpix - INFO - Step refpix running with args (<RampModel(3, 5, 1024, 1032) from det_image_seq1_MIRIMAGE_F1000Wexp2.fits>,).\n",
      "2022-04-04 16:55:18,519 - stpipe.Detector1Pipeline.refpix - INFO - Step refpix parameters are: {'pre_hooks': [], 'post_hooks': [], 'output_file': None, 'output_dir': None, 'output_ext': '.fits', 'output_use_model': False, 'output_use_index': True, 'save_results': False, 'skip': False, 'suffix': None, 'search_output_file': True, 'input_dir': '/home/cperrot/Work/code/MIRISIM/corono/20220328_162102_mirisim/det_images', 'odd_even_columns': True, 'use_side_ref_pixels': True, 'side_smoothing_length': 11, 'side_gain': 1.0, 'odd_even_rows': True}\n",
      "2022-04-04 16:55:18,533 - stpipe.Detector1Pipeline.refpix - INFO - use_side_ref_pixels = True\n",
      "2022-04-04 16:55:18,534 - stpipe.Detector1Pipeline.refpix - INFO - odd_even_columns = True\n",
      "2022-04-04 16:55:18,535 - stpipe.Detector1Pipeline.refpix - INFO - side_smoothing_length = 11\n",
      "2022-04-04 16:55:18,535 - stpipe.Detector1Pipeline.refpix - INFO - side_gain = 1.0\n",
      "2022-04-04 16:55:18,536 - stpipe.Detector1Pipeline.refpix - INFO - odd_even_rows = True\n",
      "2022-04-04 16:55:18,584 - stpipe.Detector1Pipeline.refpix - INFO - Subtracting initial read from each integration\n",
      "2022-04-04 16:55:18,750 - stpipe.Detector1Pipeline.refpix - INFO - Adding initial read back in\n",
      "2022-04-04 16:55:18,814 - stpipe.Detector1Pipeline.refpix - INFO - Step refpix done\n",
      "2022-04-04 16:55:18,965 - stpipe.Detector1Pipeline.jump - INFO - Step jump running with args (<RampModel(3, 5, 1024, 1032) from det_image_seq1_MIRIMAGE_F1000Wexp2.fits>,).\n",
      "2022-04-04 16:55:18,968 - stpipe.Detector1Pipeline.jump - INFO - Step jump parameters are: {'pre_hooks': [], 'post_hooks': [], 'output_file': None, 'output_dir': None, 'output_ext': '.fits', 'output_use_model': False, 'output_use_index': True, 'save_results': True, 'skip': False, 'suffix': None, 'search_output_file': True, 'input_dir': '/home/cperrot/Work/code/MIRISIM/corono/20220328_162102_mirisim/det_images', 'rejection_threshold': 3, 'three_group_rejection_threshold': 6.0, 'four_group_rejection_threshold': 5.0, 'maximum_cores': 'none', 'flag_4_neighbors': True, 'max_jump_to_flag_neighbors': 1000.0, 'min_jump_to_flag_neighbors': 10.0}\n",
      "2022-04-04 16:55:18,981 - stpipe.Detector1Pipeline.jump - INFO - CR rejection threshold = 3 sigma\n",
      "2022-04-04 16:55:18,996 - stpipe.Detector1Pipeline.jump - INFO - Using GAIN reference file: /home/cperrot/crds_cache/references/jwst/miri/jwst_miri_gain_0008.fits\n",
      "2022-04-04 16:55:19,039 - stpipe.Detector1Pipeline.jump - INFO - Using READNOISE reference file: /home/cperrot/crds_cache/references/jwst/miri/jwst_miri_readnoise_0057.fits\n",
      "2022-04-04 16:55:19,180 - stpipe.Detector1Pipeline.jump - INFO - Executing two-point difference method\n",
      "2022-04-04 16:55:19,199 - stpipe.Detector1Pipeline.jump - INFO - Working on integration 1:\n",
      "2022-04-04 16:55:19,636 - stpipe.Detector1Pipeline.jump - WARNING - /home/cperrot/anaconda3/envs/mirisim/lib/python3.9/site-packages/stcal/jump/twopoint_difference.py:116: RuntimeWarning: All-NaN slice encountered\n",
      "  max_ratio = np.nanmax(ratio, axis=0)\n",
      "\n",
      "2022-04-04 16:55:19,663 - stpipe.Detector1Pipeline.jump - INFO - From highest outlier, two-point found 0 pixels with at least one CR from five groups.\n",
      "2022-04-04 16:55:19,664 - stpipe.Detector1Pipeline.jump - INFO - From highest outlier, two-point found 0 pixels with at least one CR from four groups.\n",
      "2022-04-04 16:55:19,665 - stpipe.Detector1Pipeline.jump - INFO - From highest outlier, two-point found 1729 pixels with at least one CR from three groups.\n",
      "2022-04-04 16:55:19,743 - stpipe.Detector1Pipeline.jump - INFO - Working on integration 2:\n",
      "2022-04-04 16:55:20,174 - stpipe.Detector1Pipeline.jump - INFO - From highest outlier, two-point found 0 pixels with at least one CR from five groups.\n",
      "2022-04-04 16:55:20,175 - stpipe.Detector1Pipeline.jump - INFO - From highest outlier, two-point found 0 pixels with at least one CR from four groups.\n",
      "2022-04-04 16:55:20,175 - stpipe.Detector1Pipeline.jump - INFO - From highest outlier, two-point found 1984 pixels with at least one CR from three groups.\n",
      "2022-04-04 16:55:20,263 - stpipe.Detector1Pipeline.jump - INFO - Working on integration 3:\n",
      "2022-04-04 16:55:20,716 - stpipe.Detector1Pipeline.jump - INFO - From highest outlier, two-point found 0 pixels with at least one CR from five groups.\n",
      "2022-04-04 16:55:20,718 - stpipe.Detector1Pipeline.jump - INFO - From highest outlier, two-point found 0 pixels with at least one CR from four groups.\n",
      "2022-04-04 16:55:20,718 - stpipe.Detector1Pipeline.jump - INFO - From highest outlier, two-point found 2063 pixels with at least one CR from three groups.\n",
      "2022-04-04 16:55:20,817 - stpipe.Detector1Pipeline.jump - INFO - Total elapsed time = 1.63531 sec\n",
      "2022-04-04 16:55:20,821 - stpipe.Detector1Pipeline.jump - INFO - The execution time in seconds: 1.840125\n",
      "2022-04-04 16:55:20,973 - stpipe.Detector1Pipeline.jump - INFO - Saved model in /home/cperrot/Work/code/MIRISIM/corono/corono_S1/det_image_seq1_MIRIMAGE_F1000Wexp2_jump.fits\n",
      "2022-04-04 16:55:20,974 - stpipe.Detector1Pipeline.jump - INFO - Step jump done\n",
      "2022-04-04 16:55:21,104 - stpipe.Detector1Pipeline.ramp_fit - INFO - Step ramp_fit running with args (<RampModel(3, 5, 1024, 1032) from det_image_seq1_MIRIMAGE_F1000Wexp2_jump.fits>,).\n",
      "2022-04-04 16:55:21,106 - stpipe.Detector1Pipeline.ramp_fit - INFO - Step ramp_fit parameters are: {'pre_hooks': [], 'post_hooks': [], 'output_file': None, 'output_dir': '/home/cperrot/Work/code/MIRISIM/corono/corono_S1/', 'output_ext': '.fits', 'output_use_model': False, 'output_use_index': True, 'save_results': False, 'skip': False, 'suffix': None, 'search_output_file': True, 'input_dir': '/home/cperrot/Work/code/MIRISIM/corono/20220328_162102_mirisim/det_images', 'int_name': '', 'save_opt': False, 'opt_name': '', 'maximum_cores': 'none'}\n",
      "2022-04-04 16:55:21,145 - stpipe.Detector1Pipeline.ramp_fit - INFO - Using READNOISE reference file: /home/cperrot/crds_cache/references/jwst/miri/jwst_miri_readnoise_0057.fits\n"
     ]
    },
    {
     "name": "stderr",
     "output_type": "stream",
     "text": [
      "2022-04-04 16:55:21,146 - stpipe.Detector1Pipeline.ramp_fit - INFO - Using GAIN reference file: /home/cperrot/crds_cache/references/jwst/miri/jwst_miri_gain_0008.fits\n",
      "2022-04-04 16:55:21,199 - stpipe.Detector1Pipeline.ramp_fit - INFO - Using algorithm = ols\n",
      "2022-04-04 16:55:21,199 - stpipe.Detector1Pipeline.ramp_fit - INFO - Using weighting = optimal\n",
      "2022-04-04 16:55:21,217 - stpipe.Detector1Pipeline.ramp_fit - INFO - Number of leading groups that are flagged as DO_NOT_USE: 1\n",
      "2022-04-04 16:55:21,219 - stpipe.Detector1Pipeline.ramp_fit - INFO - MIRI dataset has all pixels in the final group flagged as DO_NOT_USE.\n",
      "2022-04-04 16:55:25,605 - stpipe.Detector1Pipeline.ramp_fit - INFO - Number of groups per integration: 3\n",
      "2022-04-04 16:55:25,607 - stpipe.Detector1Pipeline.ramp_fit - INFO - Number of integrations: 3\n",
      "2022-04-04 16:55:25,686 - stpipe.Detector1Pipeline.ramp_fit - INFO - Step ramp_fit done\n",
      "2022-04-04 16:55:25,800 - stpipe.Detector1Pipeline.gain_scale - INFO - Step gain_scale running with args (<ImageModel(1024, 1032) from det_image_seq1_MIRIMAGE_F1000Wexp2_jump.fits>,).\n",
      "2022-04-04 16:55:25,802 - stpipe.Detector1Pipeline.gain_scale - INFO - Step gain_scale parameters are: {'pre_hooks': [], 'post_hooks': [], 'output_file': None, 'output_dir': None, 'output_ext': '.fits', 'output_use_model': False, 'output_use_index': True, 'save_results': False, 'skip': False, 'suffix': 'gain_scale', 'search_output_file': True, 'input_dir': '/home/cperrot/Work/code/MIRISIM/corono/20220328_162102_mirisim/det_images'}\n",
      "2022-04-04 16:55:25,844 - stpipe.Detector1Pipeline.gain_scale - INFO - GAINFACT not found in gain reference file\n",
      "2022-04-04 16:55:25,845 - stpipe.Detector1Pipeline.gain_scale - INFO - Step will be skipped\n",
      "2022-04-04 16:55:25,850 - stpipe.Detector1Pipeline.gain_scale - INFO - Step gain_scale done\n",
      "2022-04-04 16:55:25,971 - stpipe.Detector1Pipeline.gain_scale - INFO - Step gain_scale running with args (<CubeModel(3, 1024, 1032) from det_image_seq1_MIRIMAGE_F1000Wexp2_jump.fits>,).\n",
      "2022-04-04 16:55:25,973 - stpipe.Detector1Pipeline.gain_scale - INFO - Step gain_scale parameters are: {'pre_hooks': [], 'post_hooks': [], 'output_file': None, 'output_dir': None, 'output_ext': '.fits', 'output_use_model': False, 'output_use_index': True, 'save_results': False, 'skip': False, 'suffix': 'gain_scaleints', 'search_output_file': True, 'input_dir': '/home/cperrot/Work/code/MIRISIM/corono/20220328_162102_mirisim/det_images'}\n",
      "2022-04-04 16:55:26,018 - stpipe.Detector1Pipeline.gain_scale - INFO - GAINFACT not found in gain reference file\n",
      "2022-04-04 16:55:26,019 - stpipe.Detector1Pipeline.gain_scale - INFO - Step will be skipped\n",
      "2022-04-04 16:55:26,025 - stpipe.Detector1Pipeline.gain_scale - INFO - Step gain_scale done\n",
      "2022-04-04 16:55:26,126 - stpipe.Detector1Pipeline - INFO - Saved model in /home/cperrot/Work/code/MIRISIM/corono/corono_S1/det_image_seq1_MIRIMAGE_F1000Wexp2_rateints.fits\n",
      "2022-04-04 16:55:26,128 - stpipe.Detector1Pipeline - INFO - ... ending calwebb_detector1\n",
      "2022-04-04 16:55:26,195 - stpipe.Detector1Pipeline - INFO - Saved model in /home/cperrot/Work/code/MIRISIM/corono/corono_S1/det_image_seq1_MIRIMAGE_F1000Wexp2_rate.fits\n",
      "2022-04-04 16:55:26,196 - stpipe.Detector1Pipeline - INFO - Step Detector1Pipeline done\n"
     ]
    }
   ],
   "source": [
    "raw_files = ['det_image_seq1_MIRIMAGE_F1000Wexp1.fits','det_image_seq1_MIRIMAGE_F1000Wexp2.fits']\n",
    "for i in raw_files:\n",
    "    call_output = calwebb_detector1.Detector1Pipeline.call(output_dir_raw+i,\n",
    "                                                       output_dir=output_dir_S1,\n",
    "                                                       save_results=True,\n",
    "                                                       config_file=output_dir_S1+miri_param_ref_file)"
   ]
  }
 ],
 "metadata": {
  "kernelspec": {
   "display_name": "Python 3 (ipykernel)",
   "language": "python",
   "name": "python3"
  },
  "language_info": {
   "codemirror_mode": {
    "name": "ipython",
    "version": 3
   },
   "file_extension": ".py",
   "mimetype": "text/x-python",
   "name": "python",
   "nbconvert_exporter": "python",
   "pygments_lexer": "ipython3",
   "version": "3.9.7"
  }
 },
 "nbformat": 4,
 "nbformat_minor": 5
}
